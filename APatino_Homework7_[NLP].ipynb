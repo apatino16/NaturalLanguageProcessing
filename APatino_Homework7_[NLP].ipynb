{
  "nbformat": 4,
  "nbformat_minor": 0,
  "metadata": {
    "colab": {
      "provenance": [],
      "authorship_tag": "ABX9TyNwuvyFBbMXoRiV0T1yBe6G",
      "include_colab_link": true
    },
    "kernelspec": {
      "name": "python3",
      "display_name": "Python 3"
    },
    "language_info": {
      "name": "python"
    }
  },
  "cells": [
    {
      "cell_type": "markdown",
      "metadata": {
        "id": "view-in-github",
        "colab_type": "text"
      },
      "source": [
        "<a href=\"https://colab.research.google.com/github/apatino16/NaturalLanguageProcessing/blob/main/APatino_Homework7_%5BNLP%5D.ipynb\" target=\"_parent\"><img src=\"https://colab.research.google.com/assets/colab-badge.svg\" alt=\"Open In Colab\"/></a>"
      ]
    },
    {
      "cell_type": "markdown",
      "source": [
        "# *Natural Language Processing* - Winter 2024 - Homework 1\n",
        "> By Anny Patino\n"
      ],
      "metadata": {
        "id": "57o2xhv_OCnu"
      }
    },
    {
      "cell_type": "code",
      "execution_count": 218,
      "metadata": {
        "id": "l2tKXvqdLZao"
      },
      "outputs": [],
      "source": [
        "# Necessary Drives\n",
        "from gensim.models import word2vec, KeyedVectors\n",
        "import tensorflow as tf\n",
        "import tensorflow_hub as hub\n",
        "import numpy as np\n",
        "import pandas as pd\n",
        "import keras\n",
        "from keras.models import Sequential\n",
        "from keras.layers import Dense\n",
        "import matplotlib.pyplot as plt\n"
      ]
    },
    {
      "cell_type": "code",
      "source": [
        "# GoogleNews Word2Vec file\n",
        "from google.colab import drive\n",
        "# drive.mount('/content/drive')\n",
        "\n",
        "path = \"/content/drive/MyDrive/ColabNotebooks/GoogleNews-vectors-negative300.bin\"\n",
        "\n",
        "model = KeyedVectors.load_word2vec_format(path, binary=True, limit=200000)"
      ],
      "metadata": {
        "id": "M-E62CkOOIKw"
      },
      "execution_count": 29,
      "outputs": []
    },
    {
      "cell_type": "code",
      "source": [
        "# For Problems 2 and 3\n",
        "import gensim.downloader as api\n",
        "wv = api.load('word2vec-google-news-300')"
      ],
      "metadata": {
        "colab": {
          "base_uri": "https://localhost:8080/",
          "height": 0
        },
        "id": "szKgtFIPQqIQ",
        "outputId": "9d17c160-8caf-413d-c985-28e0255d07a1"
      },
      "execution_count": 6,
      "outputs": [
        {
          "output_type": "stream",
          "name": "stdout",
          "text": [
            "[==================================================] 100.0% 1662.8/1662.8MB downloaded\n"
          ]
        }
      ]
    },
    {
      "cell_type": "markdown",
      "source": [
        "## Problem 1\n",
        "\n",
        "Using the ‘GoogleNews’ Word2Vec vector file, perform the following vector math."
      ],
      "metadata": {
        "id": "oGaP6mtpOFyJ"
      }
    },
    {
      "cell_type": "code",
      "source": [
        "Vec1 = model['Marie_Curie'] - model['physics'] + model['politics']\n",
        "model.most_similar([Vec1])"
      ],
      "metadata": {
        "colab": {
          "base_uri": "https://localhost:8080/",
          "height": 0
        },
        "id": "aV-pTLwzk3YC",
        "outputId": "35adb104-cfca-4650-dfb2-9aff435b5802"
      },
      "execution_count": 34,
      "outputs": [
        {
          "output_type": "execute_result",
          "data": {
            "text/plain": [
              "[('Marie_Curie', 0.6391899585723877),\n",
              " ('politics', 0.45687681436538696),\n",
              " ('Sue_Ryder', 0.4075208604335785),\n",
              " ('Breakthrough_Breast_Cancer', 0.37573352456092834),\n",
              " ('Margaret_Thatcher', 0.3684638738632202),\n",
              " ('Marie_Curie_Cancer', 0.3580324947834015),\n",
              " ('politicians', 0.34992516040802),\n",
              " ('Breast_Cancer_Care', 0.34824055433273315),\n",
              " ('Mrs_Thatcher', 0.3457459509372711),\n",
              " ('politicans', 0.3389205038547516)]"
            ]
          },
          "metadata": {},
          "execution_count": 34
        }
      ]
    },
    {
      "cell_type": "code",
      "source": [
        "Vec2 = model['Cowboys'] - model['Dallas'] + model['Miami']\n",
        "model.most_similar([Vec2])"
      ],
      "metadata": {
        "colab": {
          "base_uri": "https://localhost:8080/",
          "height": 0
        },
        "id": "t9P1FWmEl1ym",
        "outputId": "d73aa0f4-34ec-4913-80d3-15dc0c95d495"
      },
      "execution_count": 35,
      "outputs": [
        {
          "output_type": "execute_result",
          "data": {
            "text/plain": [
              "[('Cowboys', 0.7327904105186462),\n",
              " ('Dolphins', 0.7073556780815125),\n",
              " ('Miami_Dolphins', 0.6461875438690186),\n",
              " ('Broncos', 0.6419293284416199),\n",
              " ('Seminoles', 0.6188381910324097),\n",
              " ('Gators', 0.6109528541564941),\n",
              " ('Hokies', 0.592700719833374),\n",
              " ('Dallas_Cowboys', 0.5866430997848511),\n",
              " ('Sooners', 0.586640477180481),\n",
              " ('Cleveland_Browns', 0.5844414234161377)]"
            ]
          },
          "metadata": {},
          "execution_count": 35
        }
      ]
    },
    {
      "cell_type": "code",
      "source": [
        "Vec3 = model['Sacramento'] - model['California'] + model['Colorado']\n",
        "model.most_similar([Vec3])"
      ],
      "metadata": {
        "colab": {
          "base_uri": "https://localhost:8080/",
          "height": 0
        },
        "id": "i4pTkzsYmHO2",
        "outputId": "e9d8cfe0-5da6-4b49-95dc-1610964a9a30"
      },
      "execution_count": 36,
      "outputs": [
        {
          "output_type": "execute_result",
          "data": {
            "text/plain": [
              "[('Denver', 0.7687566876411438),\n",
              " ('Colorado', 0.7621335983276367),\n",
              " ('Sacramento', 0.7206397652626038),\n",
              " ('Grand_Junction', 0.6696534752845764),\n",
              " ('Fort_Collins', 0.6669073104858398),\n",
              " ('Boulder', 0.6501880288124084),\n",
              " ('Colorado_Springs', 0.6477945446968079),\n",
              " ('Pueblo', 0.6256301403045654),\n",
              " ('Spokane', 0.6246552467346191),\n",
              " ('Gunnison', 0.6222272515296936)]"
            ]
          },
          "metadata": {},
          "execution_count": 36
        }
      ]
    },
    {
      "cell_type": "code",
      "source": [
        "Vec4 = model['Cowboys'] - model['Dallas'] + model['San_Francisco']\n",
        "model.most_similar([Vec4])"
      ],
      "metadata": {
        "colab": {
          "base_uri": "https://localhost:8080/",
          "height": 0
        },
        "id": "RrQAuDQXPgoe",
        "outputId": "6cc9acb6-3fb3-438e-d340-4951ee396680"
      },
      "execution_count": 37,
      "outputs": [
        {
          "output_type": "execute_result",
          "data": {
            "text/plain": [
              "[('Cowboys', 0.71146559715271),\n",
              " ('Giants', 0.6826241612434387),\n",
              " ('Niners', 0.6466032266616821),\n",
              " ('##ers', 0.643872857093811),\n",
              " ('San_Francisco_##ers', 0.6088259816169739),\n",
              " ('Oakland_Raiders', 0.6043734550476074),\n",
              " ('Broncos', 0.5943415760993958),\n",
              " ('Raiders', 0.5565467476844788),\n",
              " ('Seahawks', 0.5484771728515625),\n",
              " ('Dallas_Cowboys', 0.5368008017539978)]"
            ]
          },
          "metadata": {},
          "execution_count": 37
        }
      ]
    },
    {
      "cell_type": "markdown",
      "source": [
        "## Problem 2\n",
        "Using the ‘GoogleNews’ Word2Vec vectors compute the similarity between the following words.\n",
        "\n",
        "* beautiful, gorgeous\n",
        "* beautiful, dazzling\n",
        "* beautiful, splendid\n",
        "* beautiful, magnificent\n",
        "* beautiful, ugly\n",
        "\n",
        "Next, compute the similarity between all the 6 words."
      ],
      "metadata": {
        "id": "598I7mxhOITr"
      }
    },
    {
      "cell_type": "code",
      "source": [
        "pairs = [('beautiful', 'gorgeous'),\n",
        "  ('beautiful', 'dazzling'),\n",
        "  ('beautiful', 'splendid'),\n",
        "  ('beautiful', 'magnificent'),\n",
        "  ('beautiful', 'ugly')]\n",
        "\n",
        "for w1, w2 in pairs:\n",
        "  print('%r \\t %r \\t %.4f' % (w1, w2, wv.similarity(w1, w2)))"
      ],
      "metadata": {
        "colab": {
          "base_uri": "https://localhost:8080/",
          "height": 0
        },
        "id": "m0yD7rApOJ_0",
        "outputId": "852d5157-ee2c-47a5-94b1-76776a1c174c"
      },
      "execution_count": 38,
      "outputs": [
        {
          "output_type": "stream",
          "name": "stdout",
          "text": [
            "'beautiful' \t 'gorgeous' \t 0.8353\n",
            "'beautiful' \t 'dazzling' \t 0.4795\n",
            "'beautiful' \t 'splendid' \t 0.5533\n",
            "'beautiful' \t 'magnificent' \t 0.6591\n",
            "'beautiful' \t 'ugly' \t 0.3344\n"
          ]
        }
      ]
    },
    {
      "cell_type": "code",
      "source": [
        "def computeSimilarity(w):\n",
        "  sM = np.zeros((len(w), len(w)))\n",
        "\n",
        "  for i in range(len(w)):\n",
        "    for j in range(len(w)):\n",
        "      sM[i, j] = wv.similarity(w[i], w[j])\n",
        "  return sM"
      ],
      "metadata": {
        "id": "6iHrDAVpoMTu"
      },
      "execution_count": 39,
      "outputs": []
    },
    {
      "cell_type": "code",
      "source": [
        "words1 = ['beautiful', 'gorgeous', 'dazzling', 'splendid', 'magnificent', 'ugly']\n",
        "simMatrix = computeSimilarity(words1)\n",
        "print(simMatrix)"
      ],
      "metadata": {
        "colab": {
          "base_uri": "https://localhost:8080/",
          "height": 0
        },
        "id": "62k4Uab0owlN",
        "outputId": "8d3d5e7d-4509-4d8b-b8e0-ff73989840d3"
      },
      "execution_count": 41,
      "outputs": [
        {
          "output_type": "stream",
          "name": "stdout",
          "text": [
            "[[1.         0.83530039 0.47949681 0.55334407 0.65914023 0.33444342]\n",
            " [0.83530039 0.99999994 0.52978837 0.55063331 0.60700852 0.29833746]\n",
            " [0.47949681 0.52978837 1.         0.66154236 0.62190461 0.21685989]\n",
            " [0.55334407 0.55063331 0.66154236 1.00000012 0.84087634 0.22497056]\n",
            " [0.65914023 0.60700852 0.62190461 0.84087634 0.99999994 0.22572012]\n",
            " [0.33444342 0.29833746 0.21685989 0.22497056 0.22572012 1.        ]]\n"
          ]
        }
      ]
    },
    {
      "cell_type": "markdown",
      "source": [
        "## Problem 3\n",
        "\n",
        "Which words do not belong to this group? Proved by comparing their Word2Vec vectors and computing the similarity between them.\n",
        "\n",
        "* False, fake, fraudulent, counterfeit, spurious, true"
      ],
      "metadata": {
        "id": "eDP_lAPdOKJF"
      }
    },
    {
      "cell_type": "code",
      "source": [
        "words2 = ['false', 'fake', 'fraudulent', 'counterfeit', 'spurious', 'true']\n",
        "print(wv.doesnt_match(words2))"
      ],
      "metadata": {
        "colab": {
          "base_uri": "https://localhost:8080/",
          "height": 0
        },
        "id": "1DYVqxsSOMuC",
        "outputId": "033a82f8-1dfc-4779-b3bf-df47ff6af48c"
      },
      "execution_count": 43,
      "outputs": [
        {
          "output_type": "stream",
          "name": "stdout",
          "text": [
            "true\n"
          ]
        }
      ]
    },
    {
      "cell_type": "code",
      "source": [
        "simMatrix = computeSimilarity(words2)\n",
        "print(simMatrix)"
      ],
      "metadata": {
        "colab": {
          "base_uri": "https://localhost:8080/",
          "height": 0
        },
        "id": "sI7yWTcIqBy2",
        "outputId": "29c927d8-e984-453d-d379-945ac985a982"
      },
      "execution_count": 44,
      "outputs": [
        {
          "output_type": "stream",
          "name": "stdout",
          "text": [
            "[[1.         0.55566651 0.58060157 0.32979789 0.53721178 0.37094328]\n",
            " [0.55566651 1.         0.56097305 0.61354744 0.43347082 0.28052571]\n",
            " [0.58060157 0.56097305 0.99999994 0.48740029 0.40782991 0.23345369]\n",
            " [0.32979789 0.61354744 0.48740029 1.         0.32145473 0.15660341]\n",
            " [0.53721178 0.43347082 0.40782991 0.32145473 1.         0.28230762]\n",
            " [0.37094328 0.28052571 0.23345369 0.15660341 0.28230762 0.99999994]]\n"
          ]
        }
      ]
    },
    {
      "cell_type": "markdown",
      "source": [
        "## Problem 4\n",
        "Compute the similarity between the following 2 words using the ‘Wiki-words’ Word2Vec file.\n",
        "* Coke & Pepsi"
      ],
      "metadata": {
        "id": "UEKXYM7DOL67"
      }
    },
    {
      "cell_type": "code",
      "source": [
        "embed = hub.load(\"https://tfhub.dev/google/Wiki-words-250-with-normalization/2\")"
      ],
      "metadata": {
        "id": "Y2KiZifvOOjK"
      },
      "execution_count": 47,
      "outputs": []
    },
    {
      "cell_type": "code",
      "source": [
        "words = ['Coke', 'Pepsi']\n",
        "embedding = embed(words)\n",
        "print(embedding.shape)"
      ],
      "metadata": {
        "colab": {
          "base_uri": "https://localhost:8080/",
          "height": 0
        },
        "id": "7FU1o9G1qrsD",
        "outputId": "77c9390a-f4aa-4b77-d54c-c49e5f719d01"
      },
      "execution_count": 48,
      "outputs": [
        {
          "output_type": "stream",
          "name": "stdout",
          "text": [
            "(2, 250)\n"
          ]
        }
      ]
    },
    {
      "cell_type": "code",
      "source": [
        "similarity = np.zeros((len(words), len(words)))\n",
        "\n",
        "for i in range(len(words)):\n",
        "  for j in range(len(words)):\n",
        "    similarity[i, j] = np.inner(embedding[i], embedding[j])\n",
        "print('Similarity Matrix')\n",
        "print(similarity)"
      ],
      "metadata": {
        "colab": {
          "base_uri": "https://localhost:8080/",
          "height": 0
        },
        "id": "o7WGwaG8q73d",
        "outputId": "4b324109-68d3-4fd2-fc95-91f9b2172af2"
      },
      "execution_count": 50,
      "outputs": [
        {
          "output_type": "stream",
          "name": "stdout",
          "text": [
            "Similarity Matrix\n",
            "[[1.         0.62521559]\n",
            " [0.62521559 1.        ]]\n"
          ]
        }
      ]
    },
    {
      "cell_type": "markdown",
      "source": [
        "## Problem 5\n",
        "\n",
        "For the following text, write Python code to compute the Skip-Ngram dataset for window size = 1,2,3.\n",
        "\n",
        "Text: data science professionals have promising career path"
      ],
      "metadata": {
        "id": "SQcOLBDKOOsM"
      }
    },
    {
      "cell_type": "code",
      "source": [
        "# corpus\n",
        "corpus = ['data science professionals have promising career path']"
      ],
      "metadata": {
        "id": "jlT57h7pOQt6"
      },
      "execution_count": 103,
      "outputs": []
    },
    {
      "cell_type": "code",
      "source": [
        "# Generate label using skipgram\n",
        "word2int = {}\n",
        "\n",
        "for i, word in enumerate(words):\n",
        "  word2int[word] = i\n",
        "\n",
        "sentences = []\n",
        "for sentence in corpus:\n",
        "  sentences.append(sentence.split())\n",
        "\n",
        "WINDOW_SIZE = 1\n",
        "\n",
        "skipNgram_data = []\n",
        "\n",
        "for sentence in sentences:\n",
        "  for idx, word in enumerate(sentence):\n",
        "    for neighbor in sentence[max(idx - WINDOW_SIZE, 0) : min(idx + WINDOW_SIZE, len(sentence)) + 1]:\n",
        "      if neighbor != word:\n",
        "        skipNgram_data.append([word, neighbor])"
      ],
      "metadata": {
        "id": "U_AKtDkpshKa"
      },
      "execution_count": 87,
      "outputs": []
    },
    {
      "cell_type": "code",
      "source": [
        "# skipgram Window Size 1\n",
        "print('Window Size = ', WINDOW_SIZE)\n",
        "print('Number of Entries', len(skipNgram_data))\n",
        "skipNgram_df = pd.DataFrame(skipNgram_data, columns = ['input', 'label'])\n",
        "print(skipNgram_df)"
      ],
      "metadata": {
        "colab": {
          "base_uri": "https://localhost:8080/",
          "height": 0
        },
        "id": "NTJSySN7v9Fv",
        "outputId": "59017cb0-a2d8-434b-8b06-cf6285eb49e4"
      },
      "execution_count": 85,
      "outputs": [
        {
          "output_type": "stream",
          "name": "stdout",
          "text": [
            "Window Size =  1\n",
            "Number of Entries 12\n",
            "            input          label\n",
            "0            data        science\n",
            "1         science           data\n",
            "2         science  professionals\n",
            "3   professionals        science\n",
            "4   professionals           have\n",
            "5            have  professionals\n",
            "6            have      promising\n",
            "7       promising           have\n",
            "8       promising         career\n",
            "9          career      promising\n",
            "10         career           path\n",
            "11           path         career\n"
          ]
        }
      ]
    },
    {
      "cell_type": "code",
      "source": [
        "# Generate label using skipgram\n",
        "word2int_W2 = {}\n",
        "\n",
        "for i, word in enumerate(words):\n",
        "  word2int_W2[word] = i\n",
        "\n",
        "sentences = []\n",
        "for sentence in corpus:\n",
        "  sentences.append(sentence.split())\n",
        "\n",
        "WINDOW_SIZE = 2\n",
        "\n",
        "skipNgram_data = []\n",
        "\n",
        "for sentence in sentences:\n",
        "  for idx, word in enumerate(sentence):\n",
        "    for neighbor in sentence[max(idx - WINDOW_SIZE, 0) : min(idx + WINDOW_SIZE, len(sentence)) + 1]:\n",
        "      if neighbor != word:\n",
        "        skipNgram_data.append([word, neighbor])"
      ],
      "metadata": {
        "id": "6Hl5JqmzxltB"
      },
      "execution_count": 113,
      "outputs": []
    },
    {
      "cell_type": "code",
      "source": [
        "# skipgram Window Size 2\n",
        "print('Window Size = ', WINDOW_SIZE)\n",
        "print('Number of Entries', len(skipNgram_data))\n",
        "skipNgram_df = pd.DataFrame(skipNgram_data, columns = ['input', 'label'])\n",
        "print(skipNgram_df)"
      ],
      "metadata": {
        "colab": {
          "base_uri": "https://localhost:8080/",
          "height": 0
        },
        "outputId": "18643508-9ebd-4700-a6ab-8bb950e9cc17",
        "id": "fUCMCv8Cxrbr"
      },
      "execution_count": 114,
      "outputs": [
        {
          "output_type": "stream",
          "name": "stdout",
          "text": [
            "Window Size =  2\n",
            "Number of Entries 22\n",
            "            input          label\n",
            "0            data        science\n",
            "1            data  professionals\n",
            "2         science           data\n",
            "3         science  professionals\n",
            "4         science           have\n",
            "5   professionals           data\n",
            "6   professionals        science\n",
            "7   professionals           have\n",
            "8   professionals      promising\n",
            "9            have        science\n",
            "10           have  professionals\n",
            "11           have      promising\n",
            "12           have         career\n",
            "13      promising  professionals\n",
            "14      promising           have\n",
            "15      promising         career\n",
            "16      promising           path\n",
            "17         career           have\n",
            "18         career      promising\n",
            "19         career           path\n",
            "20           path      promising\n",
            "21           path         career\n"
          ]
        }
      ]
    },
    {
      "cell_type": "code",
      "source": [
        "# Generate label using skipgram\n",
        "word2int = {}\n",
        "\n",
        "for i, word in enumerate(words):\n",
        "  word2int[word] = i\n",
        "\n",
        "sentences = []\n",
        "for sentence in corpus:\n",
        "  sentences.append(sentence.split())\n",
        "\n",
        "WINDOW_SIZE = 3\n",
        "\n",
        "skipNgram_data = []\n",
        "\n",
        "for sentence in sentences:\n",
        "  for idx, word in enumerate(sentence):\n",
        "    for neighbor in sentence[max(idx - WINDOW_SIZE, 0) : min(idx + WINDOW_SIZE, len(sentence)) + 1]:\n",
        "      if neighbor != word:\n",
        "        skipNgram_data.append([word, neighbor])"
      ],
      "metadata": {
        "id": "cOAEK6y6xnkX"
      },
      "execution_count": 91,
      "outputs": []
    },
    {
      "cell_type": "code",
      "source": [
        "# skipgram Window Size 3\n",
        "print('Window Size = ', WINDOW_SIZE)\n",
        "print('Number of Entries', len(skipNgram_data))\n",
        "skipNgram_df = pd.DataFrame(skipNgram_data, columns = ['input', 'label'])\n",
        "print(skipNgram_df)"
      ],
      "metadata": {
        "colab": {
          "base_uri": "https://localhost:8080/",
          "height": 0
        },
        "id": "CWs0YNj7x0y2",
        "outputId": "b0481657-6359-4416-ab4c-b44cbfb12430"
      },
      "execution_count": 92,
      "outputs": [
        {
          "output_type": "stream",
          "name": "stdout",
          "text": [
            "Window Size =  3\n",
            "Number of Entries 30\n",
            "            input          label\n",
            "0            data        science\n",
            "1            data  professionals\n",
            "2            data           have\n",
            "3         science           data\n",
            "4         science  professionals\n",
            "5         science           have\n",
            "6         science      promising\n",
            "7   professionals           data\n",
            "8   professionals        science\n",
            "9   professionals           have\n",
            "10  professionals      promising\n",
            "11  professionals         career\n",
            "12           have           data\n",
            "13           have        science\n",
            "14           have  professionals\n",
            "15           have      promising\n",
            "16           have         career\n",
            "17           have           path\n",
            "18      promising        science\n",
            "19      promising  professionals\n",
            "20      promising           have\n",
            "21      promising         career\n",
            "22      promising           path\n",
            "23         career  professionals\n",
            "24         career           have\n",
            "25         career      promising\n",
            "26         career           path\n",
            "27           path           have\n",
            "28           path      promising\n",
            "29           path         career\n"
          ]
        }
      ]
    },
    {
      "cell_type": "markdown",
      "source": [
        "## Problem 6\n",
        "\n",
        "For the Skip-Ngram generated in the previous problem, write Python code to generate 1-hot encoded (input & output) data for window size = 2."
      ],
      "metadata": {
        "id": "szax77BwOQ2u"
      }
    },
    {
      "cell_type": "code",
      "source": [
        "# Corpus\n",
        "corpus = ['data science professionals have promising career path']\n",
        "\n",
        "# Split the corpus into a list of words\n",
        "words = corpus[0].split()\n",
        "\n",
        "# Create a sorted set of unique words to build the vocabulary\n",
        "vocab = sorted(set(words))\n",
        "vocab_size = len(vocab)\n",
        "\n",
        "# Create a mapping of words to unique indices\n",
        "word2int = {word: idx for idx, word in enumerate(vocab)}\n",
        "\n",
        "# Function to convert word indices to one-hot encoded vectors\n",
        "def to_one_hot_encoding(word_index):\n",
        "    one_hot = np.zeros(vocab_size)\n",
        "    one_hot[word_index] = 1\n",
        "    return one_hot\n",
        "\n",
        "# Initialize the Skip-Gram pairs list\n",
        "skip_grams = []\n",
        "\n",
        "# Define the window size for the context words\n",
        "WINDOW_SIZE = 2\n",
        "\n",
        "# Iterate over each word in the corpus\n",
        "for i, target_word in enumerate(words):\n",
        "    # Get the context words within the window size\n",
        "    for j in range(max(0, i - WINDOW_SIZE), min(len(words), i + WINDOW_SIZE + 1)):\n",
        "        if i != j:  # Avoid the target word itself\n",
        "            context_word = words[j]\n",
        "            skip_grams.append([to_one_hot_encoding(word2int[target_word]), to_one_hot_encoding(word2int[context_word])])\n",
        "\n",
        "# Convert the Skip-Gram pairs to a DataFrame for easier visualization\n",
        "df_skip_grams = pd.DataFrame(skip_grams, columns=['input', 'label'])\n",
        "\n",
        "# Display the word to index mapping and the DataFrame\n",
        "print('Window Size = ', WINDOW_SIZE)\n",
        "print('Number of Entries', len(skipNgram_data))\n",
        "print(skipNgram_df)\n",
        "print()\n",
        "print(word2int)\n",
        "print()\n",
        "print(df_skip_grams.head(len(skip_grams)))"
      ],
      "metadata": {
        "colab": {
          "base_uri": "https://localhost:8080/",
          "height": 0
        },
        "id": "tS4kPAEL5P03",
        "outputId": "9eee14d0-37b6-4731-d547-16526a619a96"
      },
      "execution_count": 153,
      "outputs": [
        {
          "output_type": "stream",
          "name": "stdout",
          "text": [
            "Window Size =  2\n",
            "Number of Entries 22\n",
            "            input          label\n",
            "0            data        science\n",
            "1            data  professionals\n",
            "2         science           data\n",
            "3         science  professionals\n",
            "4         science           have\n",
            "5   professionals           data\n",
            "6   professionals        science\n",
            "7   professionals           have\n",
            "8   professionals      promising\n",
            "9            have        science\n",
            "10           have  professionals\n",
            "11           have      promising\n",
            "12           have         career\n",
            "13      promising  professionals\n",
            "14      promising           have\n",
            "15      promising         career\n",
            "16      promising           path\n",
            "17         career           have\n",
            "18         career      promising\n",
            "19         career           path\n",
            "20           path      promising\n",
            "21           path         career\n",
            "\n",
            "{'career': 0, 'data': 1, 'have': 2, 'path': 3, 'professionals': 4, 'promising': 5, 'science': 6}\n",
            "\n",
            "                                  input                                label\n",
            "0   [0.0, 1.0, 0.0, 0.0, 0.0, 0.0, 0.0]  [0.0, 0.0, 0.0, 0.0, 0.0, 0.0, 1.0]\n",
            "1   [0.0, 1.0, 0.0, 0.0, 0.0, 0.0, 0.0]  [0.0, 0.0, 0.0, 0.0, 1.0, 0.0, 0.0]\n",
            "2   [0.0, 0.0, 0.0, 0.0, 0.0, 0.0, 1.0]  [0.0, 1.0, 0.0, 0.0, 0.0, 0.0, 0.0]\n",
            "3   [0.0, 0.0, 0.0, 0.0, 0.0, 0.0, 1.0]  [0.0, 0.0, 0.0, 0.0, 1.0, 0.0, 0.0]\n",
            "4   [0.0, 0.0, 0.0, 0.0, 0.0, 0.0, 1.0]  [0.0, 0.0, 1.0, 0.0, 0.0, 0.0, 0.0]\n",
            "5   [0.0, 0.0, 0.0, 0.0, 1.0, 0.0, 0.0]  [0.0, 1.0, 0.0, 0.0, 0.0, 0.0, 0.0]\n",
            "6   [0.0, 0.0, 0.0, 0.0, 1.0, 0.0, 0.0]  [0.0, 0.0, 0.0, 0.0, 0.0, 0.0, 1.0]\n",
            "7   [0.0, 0.0, 0.0, 0.0, 1.0, 0.0, 0.0]  [0.0, 0.0, 1.0, 0.0, 0.0, 0.0, 0.0]\n",
            "8   [0.0, 0.0, 0.0, 0.0, 1.0, 0.0, 0.0]  [0.0, 0.0, 0.0, 0.0, 0.0, 1.0, 0.0]\n",
            "9   [0.0, 0.0, 1.0, 0.0, 0.0, 0.0, 0.0]  [0.0, 0.0, 0.0, 0.0, 0.0, 0.0, 1.0]\n",
            "10  [0.0, 0.0, 1.0, 0.0, 0.0, 0.0, 0.0]  [0.0, 0.0, 0.0, 0.0, 1.0, 0.0, 0.0]\n",
            "11  [0.0, 0.0, 1.0, 0.0, 0.0, 0.0, 0.0]  [0.0, 0.0, 0.0, 0.0, 0.0, 1.0, 0.0]\n",
            "12  [0.0, 0.0, 1.0, 0.0, 0.0, 0.0, 0.0]  [1.0, 0.0, 0.0, 0.0, 0.0, 0.0, 0.0]\n",
            "13  [0.0, 0.0, 0.0, 0.0, 0.0, 1.0, 0.0]  [0.0, 0.0, 0.0, 0.0, 1.0, 0.0, 0.0]\n",
            "14  [0.0, 0.0, 0.0, 0.0, 0.0, 1.0, 0.0]  [0.0, 0.0, 1.0, 0.0, 0.0, 0.0, 0.0]\n",
            "15  [0.0, 0.0, 0.0, 0.0, 0.0, 1.0, 0.0]  [1.0, 0.0, 0.0, 0.0, 0.0, 0.0, 0.0]\n",
            "16  [0.0, 0.0, 0.0, 0.0, 0.0, 1.0, 0.0]  [0.0, 0.0, 0.0, 1.0, 0.0, 0.0, 0.0]\n",
            "17  [1.0, 0.0, 0.0, 0.0, 0.0, 0.0, 0.0]  [0.0, 0.0, 1.0, 0.0, 0.0, 0.0, 0.0]\n",
            "18  [1.0, 0.0, 0.0, 0.0, 0.0, 0.0, 0.0]  [0.0, 0.0, 0.0, 0.0, 0.0, 1.0, 0.0]\n",
            "19  [1.0, 0.0, 0.0, 0.0, 0.0, 0.0, 0.0]  [0.0, 0.0, 0.0, 1.0, 0.0, 0.0, 0.0]\n",
            "20  [0.0, 0.0, 0.0, 1.0, 0.0, 0.0, 0.0]  [0.0, 0.0, 0.0, 0.0, 0.0, 1.0, 0.0]\n",
            "21  [0.0, 0.0, 0.0, 1.0, 0.0, 0.0, 0.0]  [1.0, 0.0, 0.0, 0.0, 0.0, 0.0, 0.0]\n"
          ]
        }
      ]
    },
    {
      "cell_type": "markdown",
      "source": [
        "## Problem 7\n",
        "\n",
        "Build a Deep Learning Neural Network using Keras to generate Word2Vec vectors for the given corpus.\n",
        "First compute a Skip-Ngram dataset of the corpus. Then generate 1-hot encoded data for the input and\n",
        "output data generated by Ski-Ngram for a window size of 2. Optimize the Neural Network weights\n",
        "using the backpropagation algorithm.\n",
        "\n",
        "The hidden layer of your Neural Network should have 2 neurons. Display the Word2Vec vectors in a 2-\n",
        "dimensional cartesian coordinates plot. Plot of the vectors will show that the words which are close to\n",
        "each other in corpus will be close in the plot."
      ],
      "metadata": {
        "id": "kkWJQ_HKOTBG"
      }
    },
    {
      "cell_type": "code",
      "source": [
        "corpus = ['I like deep Learning.', 'I like NLP.', 'I enjoy flying.']"
      ],
      "metadata": {
        "id": "NhdmGcYL7km2"
      },
      "execution_count": 185,
      "outputs": []
    },
    {
      "cell_type": "code",
      "source": [
        "# Remove Stop Words\n",
        "def remove_stop_words(corpus):\n",
        "  stop_words = ['I', 'like']\n",
        "  results = []\n",
        "  for text in corpus:\n",
        "    tmp = text.split(' ')\n",
        "    for stop_word in stop_words:\n",
        "      if stop_word in tmp:\n",
        "        tmp.remove(stop_word)\n",
        "    results.append(\" \".join(tmp))\n",
        "  return results"
      ],
      "metadata": {
        "id": "QyfbuQDI9GL1"
      },
      "execution_count": 191,
      "outputs": []
    },
    {
      "cell_type": "code",
      "source": [
        "corpus = remove_stop_words(corpus)\n",
        "print(corpus)"
      ],
      "metadata": {
        "colab": {
          "base_uri": "https://localhost:8080/",
          "height": 0
        },
        "id": "AcN0GEqi-Is6",
        "outputId": "b3281102-7f35-489a-b3a7-890ecf8abf32"
      },
      "execution_count": 192,
      "outputs": [
        {
          "output_type": "stream",
          "name": "stdout",
          "text": [
            "['deep Learning.', 'NLP.', 'enjoy flying.']\n"
          ]
        }
      ]
    },
    {
      "cell_type": "code",
      "source": [
        "# Tokenize\n",
        "words = []\n",
        "for text in corpus:\n",
        "  for word in text.split(' '):\n",
        "    words.append(word)\n",
        "\n",
        "words = sorted(set(words))\n",
        "print(words)\n",
        "print('Total words= ', len(words))"
      ],
      "metadata": {
        "colab": {
          "base_uri": "https://localhost:8080/",
          "height": 0
        },
        "id": "XHlkIVcl-cU_",
        "outputId": "8edddaab-7548-4b4b-a24d-8be24e763caf"
      },
      "execution_count": 193,
      "outputs": [
        {
          "output_type": "stream",
          "name": "stdout",
          "text": [
            "['Learning.', 'NLP.', 'deep', 'enjoy', 'flying.']\n",
            "Total words=  5\n"
          ]
        }
      ]
    },
    {
      "cell_type": "code",
      "source": [
        "# Generate label using skipgram\n",
        "word2int = {}\n",
        "\n",
        "for i, word in enumerate(words):\n",
        "  word2int[word] = i\n",
        "\n",
        "sentences = []\n",
        "for sentence in corpus:\n",
        "  sentences.append(sentence.split())\n",
        "\n",
        "WINDOW_SIZE = 2\n",
        "\n",
        "skipNgram_data = []\n",
        "\n",
        "for sentence in sentences:\n",
        "  for idx, word in enumerate(sentence):\n",
        "    for neighbor in sentence[max(idx - WINDOW_SIZE, 0) : min(idx + WINDOW_SIZE, len(sentence)) + 1]:\n",
        "      if neighbor != word:\n",
        "        skipNgram_data.append([word, neighbor])"
      ],
      "metadata": {
        "id": "UTIR4dE882DR"
      },
      "execution_count": 194,
      "outputs": []
    },
    {
      "cell_type": "code",
      "source": [
        "# skipgram Window Size 2\n",
        "print('Window Size = ', WINDOW_SIZE)\n",
        "print('Number of Entries', len(skipNgram_data))\n",
        "skipNgram_df = pd.DataFrame(skipNgram_data, columns = ['input', 'label'])\n",
        "print(skipNgram_df)"
      ],
      "metadata": {
        "colab": {
          "base_uri": "https://localhost:8080/",
          "height": 0
        },
        "id": "pEcv5T9883ij",
        "outputId": "cf939c08-baab-4275-917b-f75f9dd95ff3"
      },
      "execution_count": 195,
      "outputs": [
        {
          "output_type": "stream",
          "name": "stdout",
          "text": [
            "Window Size =  2\n",
            "Number of Entries 4\n",
            "       input      label\n",
            "0       deep  Learning.\n",
            "1  Learning.       deep\n",
            "2      enjoy    flying.\n",
            "3    flying.      enjoy\n"
          ]
        }
      ]
    },
    {
      "cell_type": "code",
      "source": [
        "# Function one-hot encoded vectors\n",
        "\n",
        "ONE_HOT_DIM = len(words)\n",
        "\n",
        "def to_one_hot_encoding(data_point_index):\n",
        "    one_hot_encoding = np.zeros(ONE_HOT_DIM)\n",
        "    one_hot_encoding[data_point_index] = 1\n",
        "    return one_hot_encoding"
      ],
      "metadata": {
        "id": "XdChzpC-_Ti8"
      },
      "execution_count": 197,
      "outputs": []
    },
    {
      "cell_type": "code",
      "source": [
        "X = []\n",
        "Y = []\n",
        "\n",
        "for x, y in zip(skipNgram_df['input'], skipNgram_df['label']):\n",
        "  X.append(to_one_hot_encoding(word2int[ x ]))\n",
        "  Y.append(to_one_hot_encoding(word2int[ y ]))\n",
        "\n",
        "  X_train = np.asarray(X)\n",
        "  Y_train = np.asarray(Y)"
      ],
      "metadata": {
        "id": "lcmbGvtLAA22"
      },
      "execution_count": 198,
      "outputs": []
    },
    {
      "cell_type": "code",
      "source": [
        "print(word2int)\n",
        "print(X_train)"
      ],
      "metadata": {
        "colab": {
          "base_uri": "https://localhost:8080/",
          "height": 0
        },
        "id": "J-Y0XhuzAiAd",
        "outputId": "780fbfca-2ab0-420f-ab49-9257046d5f36"
      },
      "execution_count": 199,
      "outputs": [
        {
          "output_type": "stream",
          "name": "stdout",
          "text": [
            "{'Learning.': 0, 'NLP.': 1, 'deep': 2, 'enjoy': 3, 'flying.': 4}\n",
            "[[0. 0. 1. 0. 0.]\n",
            " [1. 0. 0. 0. 0.]\n",
            " [0. 0. 0. 1. 0.]\n",
            " [0. 0. 0. 0. 1.]]\n"
          ]
        }
      ]
    },
    {
      "cell_type": "code",
      "source": [
        "print(word2int)\n",
        "print(Y_train)"
      ],
      "metadata": {
        "colab": {
          "base_uri": "https://localhost:8080/",
          "height": 0
        },
        "id": "zDQKrLmzApyY",
        "outputId": "80ca2321-e584-4c02-a7a1-088523f7d0a5"
      },
      "execution_count": 200,
      "outputs": [
        {
          "output_type": "stream",
          "name": "stdout",
          "text": [
            "{'Learning.': 0, 'NLP.': 1, 'deep': 2, 'enjoy': 3, 'flying.': 4}\n",
            "[[1. 0. 0. 0. 0.]\n",
            " [0. 0. 1. 0. 0.]\n",
            " [0. 0. 0. 0. 1.]\n",
            " [0. 0. 0. 1. 0.]]\n"
          ]
        }
      ]
    },
    {
      "cell_type": "code",
      "source": [
        "print(X_train.shape)\n",
        "print(Y_train.shape)"
      ],
      "metadata": {
        "colab": {
          "base_uri": "https://localhost:8080/",
          "height": 0
        },
        "id": "vaEcqlYSAxlU",
        "outputId": "9d692aa0-3cf5-4ca4-cd85-672ff3d33e26"
      },
      "execution_count": 201,
      "outputs": [
        {
          "output_type": "stream",
          "name": "stdout",
          "text": [
            "(4, 5)\n",
            "(4, 5)\n"
          ]
        }
      ]
    },
    {
      "cell_type": "code",
      "source": [
        "# Build the Neural Network Model\n",
        "model = Sequential()\n",
        "model.add(Dense(2, input_dim= X_train.shape[1], activation='linear'))\n",
        "model.add(Dense(Y_train.shape[1], activation='softmax'))\n",
        "\n",
        "model.compile(loss='categorical_crossentropy', optimizer='adam')\n",
        "\n"
      ],
      "metadata": {
        "id": "tp_fbe7-A6-y"
      },
      "execution_count": 205,
      "outputs": []
    },
    {
      "cell_type": "code",
      "source": [
        "model.summary"
      ],
      "metadata": {
        "colab": {
          "base_uri": "https://localhost:8080/",
          "height": 204
        },
        "id": "45MeCwfuBsdG",
        "outputId": "55684b22-425e-4a51-ab03-6de000d0808c"
      },
      "execution_count": 206,
      "outputs": [
        {
          "output_type": "execute_result",
          "data": {
            "text/plain": [
              "<bound method Model.summary of <keras.src.engine.sequential.Sequential object at 0x7ebaaf1713f0>>"
            ],
            "text/html": [
              "<div style=\"max-width:800px; border: 1px solid var(--colab-border-color);\"><style>\n",
              "      pre.function-repr-contents {\n",
              "        overflow-x: auto;\n",
              "        padding: 8px 12px;\n",
              "        max-height: 500px;\n",
              "      }\n",
              "\n",
              "      pre.function-repr-contents.function-repr-contents-collapsed {\n",
              "        cursor: pointer;\n",
              "        max-height: 100px;\n",
              "      }\n",
              "    </style>\n",
              "    <pre style=\"white-space: initial; background:\n",
              "         var(--colab-secondary-surface-color); padding: 8px 12px;\n",
              "         border-bottom: 1px solid var(--colab-border-color);\"><b>keras.src.engine.training.Model.summary</b><br/>def summary(line_length=None, positions=None, print_fn=None, expand_nested=False, show_trainable=False, layer_range=None)</pre><pre class=\"function-repr-contents function-repr-contents-collapsed\" style=\"\"><a class=\"filepath\" style=\"display:none\" href=\"#\">/usr/local/lib/python3.10/dist-packages/keras/src/engine/training.py</a>Prints a string summary of the network.\n",
              "\n",
              "Args:\n",
              "    line_length: Total length of printed lines\n",
              "        (e.g. set this to adapt the display to different\n",
              "        terminal window sizes).\n",
              "    positions: Relative or absolute positions of log elements\n",
              "        in each line. If not provided, becomes\n",
              "        `[0.3, 0.6, 0.70, 1.]`. Defaults to `None`.\n",
              "    print_fn: Print function to use. By default, prints to `stdout`.\n",
              "        If `stdout` doesn&#x27;t work in your environment, change to `print`.\n",
              "        It will be called on each line of the summary.\n",
              "        You can set it to a custom function\n",
              "        in order to capture the string summary.\n",
              "    expand_nested: Whether to expand the nested models.\n",
              "        Defaults to `False`.\n",
              "    show_trainable: Whether to show if a layer is trainable.\n",
              "        Defaults to `False`.\n",
              "    layer_range: a list or tuple of 2 strings,\n",
              "        which is the starting layer name and ending layer name\n",
              "        (both inclusive) indicating the range of layers to be printed\n",
              "        in summary. It also accepts regex patterns instead of exact\n",
              "        name. In such case, start predicate will be the first element\n",
              "        it matches to `layer_range[0]` and the end predicate will be\n",
              "        the last element it matches to `layer_range[1]`.\n",
              "        By default `None` which considers all layers of model.\n",
              "\n",
              "Raises:\n",
              "    ValueError: if `summary()` is called before the model is built.</pre>\n",
              "      <script>\n",
              "      if (google.colab.kernel.accessAllowed && google.colab.files && google.colab.files.view) {\n",
              "        for (const element of document.querySelectorAll('.filepath')) {\n",
              "          element.style.display = 'block'\n",
              "          element.onclick = (event) => {\n",
              "            event.preventDefault();\n",
              "            event.stopPropagation();\n",
              "            google.colab.files.view(element.textContent, 3466);\n",
              "          };\n",
              "        }\n",
              "      }\n",
              "      for (const element of document.querySelectorAll('.function-repr-contents')) {\n",
              "        element.onclick = (event) => {\n",
              "          event.preventDefault();\n",
              "          event.stopPropagation();\n",
              "          element.classList.toggle('function-repr-contents-collapsed');\n",
              "        };\n",
              "      }\n",
              "      </script>\n",
              "      </div>"
            ]
          },
          "metadata": {},
          "execution_count": 206
        }
      ]
    },
    {
      "cell_type": "code",
      "source": [
        "# Train the model\n",
        "epochs = 20000\n",
        "hist = model.fit(X_train, Y_train, verbose=0, epochs=epochs)"
      ],
      "metadata": {
        "id": "noyjKeOfB2OP"
      },
      "execution_count": 207,
      "outputs": []
    },
    {
      "cell_type": "code",
      "source": [
        "# Visualizing losses\n",
        "train_loss = hist.history['loss']\n",
        "xc = range(epochs)\n",
        "\n",
        "plt.plot(xc, train_loss)\n",
        "\n",
        "plt.figure(1, figsize=(7,5))\n",
        "plt.xlabel('num of Epochs')\n",
        "plt.ylabel('loss')\n",
        "plt.title('train_loss')\n",
        "plt.grid(True)"
      ],
      "metadata": {
        "colab": {
          "base_uri": "https://localhost:8080/",
          "height": 472
        },
        "id": "GpoM5Se9CFFO",
        "outputId": "700aaa66-9b87-47c6-d528-d4816e5c1381"
      },
      "execution_count": 219,
      "outputs": [
        {
          "output_type": "display_data",
          "data": {
            "text/plain": [
              "<Figure size 640x480 with 1 Axes>"
            ],
            "image/png": "[encoded data removed]"
          },
          "metadata": {}
        }
      ]
    },
    {
      "cell_type": "code",
      "source": [
        "# Print values of all the weights and bias of all the neurons of the Neural Network\n",
        "for layerNum, layer in enumerate(model.layers):\n",
        "  print('Layer Number = ', layerNum)\n",
        "\n",
        "  print('Weights Values =')\n",
        "  weights = layer.get_weights()[0]\n",
        "  print(weights)\n",
        "\n",
        "  print('Bias Values =')\n",
        "  biases = layer.get_weights()[1]\n",
        "  print(biases)\n",
        "  print('================')"
      ],
      "metadata": {
        "colab": {
          "base_uri": "https://localhost:8080/",
          "height": 0
        },
        "id": "QpjFqaJLD0Ai",
        "outputId": "410b036c-4ac3-4512-9b06-b0788f0006d4"
      },
      "execution_count": 220,
      "outputs": [
        {
          "output_type": "stream",
          "name": "stdout",
          "text": [
            "Layer Number =  0\n",
            "Weights Values =\n",
            "[[ 2.860581    2.1481082 ]\n",
            " [-0.4761421   0.00759786]\n",
            " [-2.7486436  -3.4676216 ]\n",
            " [-3.0664604   1.7627332 ]\n",
            " [ 2.8848202  -4.0271883 ]]\n",
            "Bias Values =\n",
            "[0.0561588 0.9269524]\n",
            "================\n",
            "Layer Number =  1\n",
            "Weights Values =\n",
            "[[-3.6939366  -0.32684004  2.310731    2.1638322  -2.9835618 ]\n",
            " [-2.9393566   0.5203804   3.3696737  -1.8057035   3.000466  ]]\n",
            "Bias Values =\n",
            "[-0.3447765 -1.0261861  1.0012139  1.5955858  1.4248393]\n",
            "================\n"
          ]
        }
      ]
    },
    {
      "cell_type": "code",
      "source": [
        "# Print values of all the weights of layer 1\n",
        "for layerNum, layer in enumerate(model.layers):\n",
        "  weights = layer.get_weights()[0]\n",
        "\n",
        "  biases = layer.get_weights()[1]\n",
        "  break\n",
        "\n",
        "print(weights)\n",
        "print(biases)"
      ],
      "metadata": {
        "colab": {
          "base_uri": "https://localhost:8080/",
          "height": 0
        },
        "id": "hQ2i70_2GOMX",
        "outputId": "bdc08c96-d11b-47fc-a80a-d38d7fadef5d"
      },
      "execution_count": 226,
      "outputs": [
        {
          "output_type": "stream",
          "name": "stdout",
          "text": [
            "[[ 2.860581    2.1481082 ]\n",
            " [-0.4761421   0.00759786]\n",
            " [-2.7486436  -3.4676216 ]\n",
            " [-3.0664604   1.7627332 ]\n",
            " [ 2.8848202  -4.0271883 ]]\n",
            "[0.0561588 0.9269524]\n"
          ]
        }
      ]
    },
    {
      "cell_type": "code",
      "source": [
        "# Word2Vec vectors\n",
        "Word2Vec = weights + biases\n",
        "print(Word2Vec)"
      ],
      "metadata": {
        "colab": {
          "base_uri": "https://localhost:8080/",
          "height": 0
        },
        "id": "o9lCBXegEoUT",
        "outputId": "cdab4dcb-1c08-4049-f018-6f92b1c1bc46"
      },
      "execution_count": 227,
      "outputs": [
        {
          "output_type": "stream",
          "name": "stdout",
          "text": [
            "[[ 2.9167397   3.0750606 ]\n",
            " [-0.41998333  0.9345503 ]\n",
            " [-2.6924849  -2.5406692 ]\n",
            " [-3.0103016   2.6896856 ]\n",
            " [ 2.940979   -3.100236  ]]\n"
          ]
        }
      ]
    },
    {
      "cell_type": "code",
      "source": [
        "# vector in DF\n",
        "w2v_df = pd.DataFrame(Word2Vec, columns = ['x1', 'x2'])\n",
        "w2v_df['word'] = words\n",
        "w2v_df = w2v_df[['word', 'x1', 'x2']]\n",
        "w2v_df"
      ],
      "metadata": {
        "colab": {
          "base_uri": "https://localhost:8080/",
          "height": 206
        },
        "id": "0KCoS6xCFSDn",
        "outputId": "8cedb289-cb1d-4489-9bb3-04cc0cc22bf3"
      },
      "execution_count": 228,
      "outputs": [
        {
          "output_type": "execute_result",
          "data": {
            "text/plain": [
              "        word        x1        x2\n",
              "0  Learning.  2.916740  3.075061\n",
              "1       NLP. -0.419983  0.934550\n",
              "2       deep -2.692485 -2.540669\n",
              "3      enjoy -3.010302  2.689686\n",
              "4    flying.  2.940979 -3.100236"
            ],
            "text/html": [
              "\n",
              "  <div id=\"df-62a43c6e-ed04-4bff-9887-30da2bce0fb4\" class=\"colab-df-container\">\n",
              "    <div>\n",
              "<style scoped>\n",
              "    .dataframe tbody tr th:only-of-type {\n",
              "        vertical-align: middle;\n",
              "    }\n",
              "\n",
              "    .dataframe tbody tr th {\n",
              "        vertical-align: top;\n",
              "    }\n",
              "\n",
              "    .dataframe thead th {\n",
              "        text-align: right;\n",
              "    }\n",
              "</style>\n",
              "<table border=\"1\" class=\"dataframe\">\n",
              "  <thead>\n",
              "    <tr style=\"text-align: right;\">\n",
              "      <th></th>\n",
              "      <th>word</th>\n",
              "      <th>x1</th>\n",
              "      <th>x2</th>\n",
              "    </tr>\n",
              "  </thead>\n",
              "  <tbody>\n",
              "    <tr>\n",
              "      <th>0</th>\n",
              "      <td>Learning.</td>\n",
              "      <td>2.916740</td>\n",
              "      <td>3.075061</td>\n",
              "    </tr>\n",
              "    <tr>\n",
              "      <th>1</th>\n",
              "      <td>NLP.</td>\n",
              "      <td>-0.419983</td>\n",
              "      <td>0.934550</td>\n",
              "    </tr>\n",
              "    <tr>\n",
              "      <th>2</th>\n",
              "      <td>deep</td>\n",
              "      <td>-2.692485</td>\n",
              "      <td>-2.540669</td>\n",
              "    </tr>\n",
              "    <tr>\n",
              "      <th>3</th>\n",
              "      <td>enjoy</td>\n",
              "      <td>-3.010302</td>\n",
              "      <td>2.689686</td>\n",
              "    </tr>\n",
              "    <tr>\n",
              "      <th>4</th>\n",
              "      <td>flying.</td>\n",
              "      <td>2.940979</td>\n",
              "      <td>-3.100236</td>\n",
              "    </tr>\n",
              "  </tbody>\n",
              "</table>\n",
              "</div>\n",
              "    <div class=\"colab-df-buttons\">\n",
              "\n",
              "  <div class=\"colab-df-container\">\n",
              "    <button class=\"colab-df-convert\" onclick=\"convertToInteractive('df-62a43c6e-ed04-4bff-9887-30da2bce0fb4')\"\n",
              "            title=\"Convert this dataframe to an interactive table.\"\n",
              "            style=\"display:none;\">\n",
              "\n",
              "  <svg xmlns=\"http://www.w3.org/2000/svg\" height=\"24px\" viewBox=\"0 -960 960 960\">\n",
              "    <path d=\"M120-120v-720h720v720H120Zm60-500h600v-160H180v160Zm220 220h160v-160H400v160Zm0 220h160v-160H400v160ZM180-400h160v-160H180v160Zm440 0h160v-160H620v160ZM180-180h160v-160H180v160Zm440 0h160v-160H620v160Z\"/>\n",
              "  </svg>\n",
              "    </button>\n",
              "\n",
              "  <style>\n",
              "    .colab-df-container {\n",
              "      display:flex;\n",
              "      gap: 12px;\n",
              "    }\n",
              "\n",
              "    .colab-df-convert {\n",
              "      background-color: #E8F0FE;\n",
              "      border: none;\n",
              "      border-radius: 50%;\n",
              "      cursor: pointer;\n",
              "      display: none;\n",
              "      fill: #1967D2;\n",
              "      height: 32px;\n",
              "      padding: 0 0 0 0;\n",
              "      width: 32px;\n",
              "    }\n",
              "\n",
              "    .colab-df-convert:hover {\n",
              "      background-color: #E2EBFA;\n",
              "      box-shadow: 0px 1px 2px rgba(60, 64, 67, 0.3), 0px 1px 3px 1px rgba(60, 64, 67, 0.15);\n",
              "      fill: #174EA6;\n",
              "    }\n",
              "\n",
              "    .colab-df-buttons div {\n",
              "      margin-bottom: 4px;\n",
              "    }\n",
              "\n",
              "    [theme=dark] .colab-df-convert {\n",
              "      background-color: #3B4455;\n",
              "      fill: #D2E3FC;\n",
              "    }\n",
              "\n",
              "    [theme=dark] .colab-df-convert:hover {\n",
              "      background-color: #434B5C;\n",
              "      box-shadow: 0px 1px 3px 1px rgba(0, 0, 0, 0.15);\n",
              "      filter: drop-shadow(0px 1px 2px rgba(0, 0, 0, 0.3));\n",
              "      fill: #FFFFFF;\n",
              "    }\n",
              "  </style>\n",
              "\n",
              "    <script>\n",
              "      const buttonEl =\n",
              "        document.querySelector('#df-62a43c6e-ed04-4bff-9887-30da2bce0fb4 button.colab-df-convert');\n",
              "      buttonEl.style.display =\n",
              "        google.colab.kernel.accessAllowed ? 'block' : 'none';\n",
              "\n",
              "      async function convertToInteractive(key) {\n",
              "        const element = document.querySelector('#df-62a43c6e-ed04-4bff-9887-30da2bce0fb4');\n",
              "        const dataTable =\n",
              "          await google.colab.kernel.invokeFunction('convertToInteractive',\n",
              "                                                    [key], {});\n",
              "        if (!dataTable) return;\n",
              "\n",
              "        const docLinkHtml = 'Like what you see? Visit the ' +\n",
              "          '<a target=\"_blank\" href=https://colab.research.google.com/notebooks/data_table.ipynb>data table notebook</a>'\n",
              "          + ' to learn more about interactive tables.';\n",
              "        element.innerHTML = '';\n",
              "        dataTable['output_type'] = 'display_data';\n",
              "        await google.colab.output.renderOutput(dataTable, element);\n",
              "        const docLink = document.createElement('div');\n",
              "        docLink.innerHTML = docLinkHtml;\n",
              "        element.appendChild(docLink);\n",
              "      }\n",
              "    </script>\n",
              "  </div>\n",
              "\n",
              "\n",
              "<div id=\"df-336b23e5-edb9-4e58-b1f1-0beb6ec4ef6c\">\n",
              "  <button class=\"colab-df-quickchart\" onclick=\"quickchart('df-336b23e5-edb9-4e58-b1f1-0beb6ec4ef6c')\"\n",
              "            title=\"Suggest charts\"\n",
              "            style=\"display:none;\">\n",
              "\n",
              "<svg xmlns=\"http://www.w3.org/2000/svg\" height=\"24px\"viewBox=\"0 0 24 24\"\n",
              "     width=\"24px\">\n",
              "    <g>\n",
              "        <path d=\"M19 3H5c-1.1 0-2 .9-2 2v14c0 1.1.9 2 2 2h14c1.1 0 2-.9 2-2V5c0-1.1-.9-2-2-2zM9 17H7v-7h2v7zm4 0h-2V7h2v10zm4 0h-2v-4h2v4z\"/>\n",
              "    </g>\n",
              "</svg>\n",
              "  </button>\n",
              "\n",
              "<style>\n",
              "  .colab-df-quickchart {\n",
              "      --bg-color: #E8F0FE;\n",
              "      --fill-color: #1967D2;\n",
              "      --hover-bg-color: #E2EBFA;\n",
              "      --hover-fill-color: #174EA6;\n",
              "      --disabled-fill-color: #AAA;\n",
              "      --disabled-bg-color: #DDD;\n",
              "  }\n",
              "\n",
              "  [theme=dark] .colab-df-quickchart {\n",
              "      --bg-color: #3B4455;\n",
              "      --fill-color: #D2E3FC;\n",
              "      --hover-bg-color: #434B5C;\n",
              "      --hover-fill-color: #FFFFFF;\n",
              "      --disabled-bg-color: #3B4455;\n",
              "      --disabled-fill-color: #666;\n",
              "  }\n",
              "\n",
              "  .colab-df-quickchart {\n",
              "    background-color: var(--bg-color);\n",
              "    border: none;\n",
              "    border-radius: 50%;\n",
              "    cursor: pointer;\n",
              "    display: none;\n",
              "    fill: var(--fill-color);\n",
              "    height: 32px;\n",
              "    padding: 0;\n",
              "    width: 32px;\n",
              "  }\n",
              "\n",
              "  .colab-df-quickchart:hover {\n",
              "    background-color: var(--hover-bg-color);\n",
              "    box-shadow: 0 1px 2px rgba(60, 64, 67, 0.3), 0 1px 3px 1px rgba(60, 64, 67, 0.15);\n",
              "    fill: var(--button-hover-fill-color);\n",
              "  }\n",
              "\n",
              "  .colab-df-quickchart-complete:disabled,\n",
              "  .colab-df-quickchart-complete:disabled:hover {\n",
              "    background-color: var(--disabled-bg-color);\n",
              "    fill: var(--disabled-fill-color);\n",
              "    box-shadow: none;\n",
              "  }\n",
              "\n",
              "  .colab-df-spinner {\n",
              "    border: 2px solid var(--fill-color);\n",
              "    border-color: transparent;\n",
              "    border-bottom-color: var(--fill-color);\n",
              "    animation:\n",
              "      spin 1s steps(1) infinite;\n",
              "  }\n",
              "\n",
              "  @keyframes spin {\n",
              "    0% {\n",
              "      border-color: transparent;\n",
              "      border-bottom-color: var(--fill-color);\n",
              "      border-left-color: var(--fill-color);\n",
              "    }\n",
              "    20% {\n",
              "      border-color: transparent;\n",
              "      border-left-color: var(--fill-color);\n",
              "      border-top-color: var(--fill-color);\n",
              "    }\n",
              "    30% {\n",
              "      border-color: transparent;\n",
              "      border-left-color: var(--fill-color);\n",
              "      border-top-color: var(--fill-color);\n",
              "      border-right-color: var(--fill-color);\n",
              "    }\n",
              "    40% {\n",
              "      border-color: transparent;\n",
              "      border-right-color: var(--fill-color);\n",
              "      border-top-color: var(--fill-color);\n",
              "    }\n",
              "    60% {\n",
              "      border-color: transparent;\n",
              "      border-right-color: var(--fill-color);\n",
              "    }\n",
              "    80% {\n",
              "      border-color: transparent;\n",
              "      border-right-color: var(--fill-color);\n",
              "      border-bottom-color: var(--fill-color);\n",
              "    }\n",
              "    90% {\n",
              "      border-color: transparent;\n",
              "      border-bottom-color: var(--fill-color);\n",
              "    }\n",
              "  }\n",
              "</style>\n",
              "\n",
              "  <script>\n",
              "    async function quickchart(key) {\n",
              "      const quickchartButtonEl =\n",
              "        document.querySelector('#' + key + ' button');\n",
              "      quickchartButtonEl.disabled = true;  // To prevent multiple clicks.\n",
              "      quickchartButtonEl.classList.add('colab-df-spinner');\n",
              "      try {\n",
              "        const charts = await google.colab.kernel.invokeFunction(\n",
              "            'suggestCharts', [key], {});\n",
              "      } catch (error) {\n",
              "        console.error('Error during call to suggestCharts:', error);\n",
              "      }\n",
              "      quickchartButtonEl.classList.remove('colab-df-spinner');\n",
              "      quickchartButtonEl.classList.add('colab-df-quickchart-complete');\n",
              "    }\n",
              "    (() => {\n",
              "      let quickchartButtonEl =\n",
              "        document.querySelector('#df-336b23e5-edb9-4e58-b1f1-0beb6ec4ef6c button');\n",
              "      quickchartButtonEl.style.display =\n",
              "        google.colab.kernel.accessAllowed ? 'block' : 'none';\n",
              "    })();\n",
              "  </script>\n",
              "</div>\n",
              "    </div>\n",
              "  </div>\n"
            ],
            "application/vnd.google.colaboratory.intrinsic+json": {
              "type": "dataframe",
              "variable_name": "w2v_df",
              "summary": "{\n  \"name\": \"w2v_df\",\n  \"rows\": 5,\n  \"fields\": [\n    {\n      \"column\": \"word\",\n      \"properties\": {\n        \"dtype\": \"string\",\n        \"num_unique_values\": 5,\n        \"samples\": [\n          \"NLP.\",\n          \"flying.\",\n          \"deep\"\n        ],\n        \"semantic_type\": \"\",\n        \"description\": \"\"\n      }\n    },\n    {\n      \"column\": \"x1\",\n      \"properties\": {\n        \"dtype\": \"float32\",\n        \"num_unique_values\": 5,\n        \"samples\": [\n          -0.4199833273887634,\n          2.94097900390625,\n          -2.6924848556518555\n        ],\n        \"semantic_type\": \"\",\n        \"description\": \"\"\n      }\n    },\n    {\n      \"column\": \"x2\",\n      \"properties\": {\n        \"dtype\": \"float32\",\n        \"num_unique_values\": 5,\n        \"samples\": [\n          0.9345502853393555,\n          -3.100235939025879,\n          -2.5406692028045654\n        ],\n        \"semantic_type\": \"\",\n        \"description\": \"\"\n      }\n    }\n  ]\n}"
            }
          },
          "metadata": {},
          "execution_count": 228
        }
      ]
    },
    {
      "cell_type": "code",
      "source": [
        "fig, ax = plt.subplots()\n",
        "\n",
        "for word, x1, x2 in zip(w2v_df['word'], w2v_df['x1'], w2v_df['x2']):\n",
        "  ax.annotate(word, (x1,x2))\n",
        "\n",
        "PADDING = 1.0\n",
        "x_axis_min = np.amin(Word2Vec, axis=0)[0]- PADDING\n",
        "y_axis_min = np.amin(Word2Vec, axis=0)[1]- PADDING\n",
        "x_axis_max = np.amax(Word2Vec, axis=0)[0]+ PADDING\n",
        "y_axis_max = np.amax(Word2Vec, axis=0)[1]+ PADDING\n",
        "\n",
        "plt.xlim(x_axis_min, x_axis_max)\n",
        "plt.ylim(y_axis_min, y_axis_max)\n",
        "plt.rcParams['figure.figsize'] = (5,5)\n",
        "\n",
        "plt.show"
      ],
      "metadata": {
        "colab": {
          "base_uri": "https://localhost:8080/",
          "height": 617
        },
        "id": "rQfwTmpsGv3_",
        "outputId": "f312f5ea-4950-451b-ccff-a604080ef168"
      },
      "execution_count": 231,
      "outputs": [
        {
          "output_type": "execute_result",
          "data": {
            "text/plain": [
              "<function matplotlib.pyplot.show(close=None, block=None)>"
            ],
            "text/html": [
              "<div style=\"max-width:800px; border: 1px solid var(--colab-border-color);\"><style>\n",
              "      pre.function-repr-contents {\n",
              "        overflow-x: auto;\n",
              "        padding: 8px 12px;\n",
              "        max-height: 500px;\n",
              "      }\n",
              "\n",
              "      pre.function-repr-contents.function-repr-contents-collapsed {\n",
              "        cursor: pointer;\n",
              "        max-height: 100px;\n",
              "      }\n",
              "    </style>\n",
              "    <pre style=\"white-space: initial; background:\n",
              "         var(--colab-secondary-surface-color); padding: 8px 12px;\n",
              "         border-bottom: 1px solid var(--colab-border-color);\"><b>matplotlib.pyplot.show</b><br/>def show(*args, **kwargs)</pre><pre class=\"function-repr-contents function-repr-contents-collapsed\" style=\"\"><a class=\"filepath\" style=\"display:none\" href=\"#\">/usr/local/lib/python3.10/dist-packages/matplotlib/pyplot.py</a>Display all open figures.\n",
              "\n",
              "Parameters\n",
              "----------\n",
              "block : bool, optional\n",
              "    Whether to wait for all figures to be closed before returning.\n",
              "\n",
              "    If `True` block and run the GUI main loop until all figure windows\n",
              "    are closed.\n",
              "\n",
              "    If `False` ensure that all figure windows are displayed and return\n",
              "    immediately.  In this case, you are responsible for ensuring\n",
              "    that the event loop is running to have responsive figures.\n",
              "\n",
              "    Defaults to True in non-interactive mode and to False in interactive\n",
              "    mode (see `.pyplot.isinteractive`).\n",
              "\n",
              "See Also\n",
              "--------\n",
              "ion : Enable interactive mode, which shows / updates the figure after\n",
              "      every plotting command, so that calling ``show()`` is not necessary.\n",
              "ioff : Disable interactive mode.\n",
              "savefig : Save the figure to an image file instead of showing it on screen.\n",
              "\n",
              "Notes\n",
              "-----\n",
              "**Saving figures to file and showing a window at the same time**\n",
              "\n",
              "If you want an image file as well as a user interface window, use\n",
              "`.pyplot.savefig` before `.pyplot.show`. At the end of (a blocking)\n",
              "``show()`` the figure is closed and thus unregistered from pyplot. Calling\n",
              "`.pyplot.savefig` afterwards would save a new and thus empty figure. This\n",
              "limitation of command order does not apply if the show is non-blocking or\n",
              "if you keep a reference to the figure and use `.Figure.savefig`.\n",
              "\n",
              "**Auto-show in jupyter notebooks**\n",
              "\n",
              "The jupyter backends (activated via ``%matplotlib inline``,\n",
              "``%matplotlib notebook``, or ``%matplotlib widget``), call ``show()`` at\n",
              "the end of every cell by default. Thus, you usually don&#x27;t have to call it\n",
              "explicitly there.</pre>\n",
              "      <script>\n",
              "      if (google.colab.kernel.accessAllowed && google.colab.files && google.colab.files.view) {\n",
              "        for (const element of document.querySelectorAll('.filepath')) {\n",
              "          element.style.display = 'block'\n",
              "          element.onclick = (event) => {\n",
              "            event.preventDefault();\n",
              "            event.stopPropagation();\n",
              "            google.colab.files.view(element.textContent, 401);\n",
              "          };\n",
              "        }\n",
              "      }\n",
              "      for (const element of document.querySelectorAll('.function-repr-contents')) {\n",
              "        element.onclick = (event) => {\n",
              "          event.preventDefault();\n",
              "          event.stopPropagation();\n",
              "          element.classList.toggle('function-repr-contents-collapsed');\n",
              "        };\n",
              "      }\n",
              "      </script>\n",
              "      </div>"
            ]
          },
          "metadata": {},
          "execution_count": 231
        },
        {
          "output_type": "display_data",
          "data": {
            "text/plain": [
              "<Figure size 500x500 with 1 Axes>"
            ],
            "image/png": "[encoded data removed]"
          },
          "metadata": {}
        }
      ]
    }
  ]
}