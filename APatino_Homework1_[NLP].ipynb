{
  "nbformat": 4,
  "nbformat_minor": 0,
  "metadata": {
    "colab": {
      "provenance": [],
      "authorship_tag": "ABX9TyM0lu9KQ3ClGt6J3XXL5rW9",
      "include_colab_link": true
    },
    "kernelspec": {
      "name": "python3",
      "display_name": "Python 3"
    },
    "language_info": {
      "name": "python"
    }
  },
  "cells": [
    {
      "cell_type": "markdown",
      "metadata": {
        "id": "view-in-github",
        "colab_type": "text"
      },
      "source": [
        "<a href=\"https://colab.research.google.com/github/apatino16/NaturalLanguageProcessing/blob/main/APatino_Homework1_%5BNLP%5D.ipynb\" target=\"_parent\"><img src=\"https://colab.research.google.com/assets/colab-badge.svg\" alt=\"Open In Colab\"/></a>"
      ]
    },
    {
      "cell_type": "markdown",
      "source": [
        "# *Natural Language Processing* - Winter 2024 - Homework 1\n",
        "> By Anny Patino\n"
      ],
      "metadata": {
        "id": "eaBa9ZJ1u0ri"
      }
    },
    {
      "cell_type": "markdown",
      "source": [
        "The `worldfloras.csv` file contains information about all the countries in the world. This file is used for problems 1-5. The use of `re` Python library for regular expressions is employed to solve the following 5 problems."
      ],
      "metadata": {
        "id": "rA-7wcI-v9WE"
      }
    },
    {
      "cell_type": "code",
      "source": [
        "# Upload the worldfloras.csv file from my computer to the virtual machine that Colab is running on\n",
        "from google.colab import files\n",
        "\n",
        "uploaded = files.upload()"
      ],
      "metadata": {
        "colab": {
          "base_uri": "https://localhost:8080/",
          "height": 73
        },
        "id": "XsN1WS0UzV8e",
        "outputId": "201148ff-1d3d-418f-863e-c8cefe4ae2f9"
      },
      "execution_count": 7,
      "outputs": [
        {
          "output_type": "display_data",
          "data": {
            "text/plain": [
              "<IPython.core.display.HTML object>"
            ],
            "text/html": [
              "\n",
              "     <input type=\"file\" id=\"files-d9a33a6c-8e0d-4242-89fb-dffea9349a17\" name=\"files[]\" multiple disabled\n",
              "        style=\"border:none\" />\n",
              "     <output id=\"result-d9a33a6c-8e0d-4242-89fb-dffea9349a17\">\n",
              "      Upload widget is only available when the cell has been executed in the\n",
              "      current browser session. Please rerun this cell to enable.\n",
              "      </output>\n",
              "      <script>// Copyright 2017 Google LLC\n",
              "//\n",
              "// Licensed under the Apache License, Version 2.0 (the \"License\");\n",
              "// you may not use this file except in compliance with the License.\n",
              "// You may obtain a copy of the License at\n",
              "//\n",
              "//      http://www.apache.org/licenses/LICENSE-2.0\n",
              "//\n",
              "// Unless required by applicable law or agreed to in writing, software\n",
              "// distributed under the License is distributed on an \"AS IS\" BASIS,\n",
              "// WITHOUT WARRANTIES OR CONDITIONS OF ANY KIND, either express or implied.\n",
              "// See the License for the specific language governing permissions and\n",
              "// limitations under the License.\n",
              "\n",
              "/**\n",
              " * @fileoverview Helpers for google.colab Python module.\n",
              " */\n",
              "(function(scope) {\n",
              "function span(text, styleAttributes = {}) {\n",
              "  const element = document.createElement('span');\n",
              "  element.textContent = text;\n",
              "  for (const key of Object.keys(styleAttributes)) {\n",
              "    element.style[key] = styleAttributes[key];\n",
              "  }\n",
              "  return element;\n",
              "}\n",
              "\n",
              "// Max number of bytes which will be uploaded at a time.\n",
              "const MAX_PAYLOAD_SIZE = 100 * 1024;\n",
              "\n",
              "function _uploadFiles(inputId, outputId) {\n",
              "  const steps = uploadFilesStep(inputId, outputId);\n",
              "  const outputElement = document.getElementById(outputId);\n",
              "  // Cache steps on the outputElement to make it available for the next call\n",
              "  // to uploadFilesContinue from Python.\n",
              "  outputElement.steps = steps;\n",
              "\n",
              "  return _uploadFilesContinue(outputId);\n",
              "}\n",
              "\n",
              "// This is roughly an async generator (not supported in the browser yet),\n",
              "// where there are multiple asynchronous steps and the Python side is going\n",
              "// to poll for completion of each step.\n",
              "// This uses a Promise to block the python side on completion of each step,\n",
              "// then passes the result of the previous step as the input to the next step.\n",
              "function _uploadFilesContinue(outputId) {\n",
              "  const outputElement = document.getElementById(outputId);\n",
              "  const steps = outputElement.steps;\n",
              "\n",
              "  const next = steps.next(outputElement.lastPromiseValue);\n",
              "  return Promise.resolve(next.value.promise).then((value) => {\n",
              "    // Cache the last promise value to make it available to the next\n",
              "    // step of the generator.\n",
              "    outputElement.lastPromiseValue = value;\n",
              "    return next.value.response;\n",
              "  });\n",
              "}\n",
              "\n",
              "/**\n",
              " * Generator function which is called between each async step of the upload\n",
              " * process.\n",
              " * @param {string} inputId Element ID of the input file picker element.\n",
              " * @param {string} outputId Element ID of the output display.\n",
              " * @return {!Iterable<!Object>} Iterable of next steps.\n",
              " */\n",
              "function* uploadFilesStep(inputId, outputId) {\n",
              "  const inputElement = document.getElementById(inputId);\n",
              "  inputElement.disabled = false;\n",
              "\n",
              "  const outputElement = document.getElementById(outputId);\n",
              "  outputElement.innerHTML = '';\n",
              "\n",
              "  const pickedPromise = new Promise((resolve) => {\n",
              "    inputElement.addEventListener('change', (e) => {\n",
              "      resolve(e.target.files);\n",
              "    });\n",
              "  });\n",
              "\n",
              "  const cancel = document.createElement('button');\n",
              "  inputElement.parentElement.appendChild(cancel);\n",
              "  cancel.textContent = 'Cancel upload';\n",
              "  const cancelPromise = new Promise((resolve) => {\n",
              "    cancel.onclick = () => {\n",
              "      resolve(null);\n",
              "    };\n",
              "  });\n",
              "\n",
              "  // Wait for the user to pick the files.\n",
              "  const files = yield {\n",
              "    promise: Promise.race([pickedPromise, cancelPromise]),\n",
              "    response: {\n",
              "      action: 'starting',\n",
              "    }\n",
              "  };\n",
              "\n",
              "  cancel.remove();\n",
              "\n",
              "  // Disable the input element since further picks are not allowed.\n",
              "  inputElement.disabled = true;\n",
              "\n",
              "  if (!files) {\n",
              "    return {\n",
              "      response: {\n",
              "        action: 'complete',\n",
              "      }\n",
              "    };\n",
              "  }\n",
              "\n",
              "  for (const file of files) {\n",
              "    const li = document.createElement('li');\n",
              "    li.append(span(file.name, {fontWeight: 'bold'}));\n",
              "    li.append(span(\n",
              "        `(${file.type || 'n/a'}) - ${file.size} bytes, ` +\n",
              "        `last modified: ${\n",
              "            file.lastModifiedDate ? file.lastModifiedDate.toLocaleDateString() :\n",
              "                                    'n/a'} - `));\n",
              "    const percent = span('0% done');\n",
              "    li.appendChild(percent);\n",
              "\n",
              "    outputElement.appendChild(li);\n",
              "\n",
              "    const fileDataPromise = new Promise((resolve) => {\n",
              "      const reader = new FileReader();\n",
              "      reader.onload = (e) => {\n",
              "        resolve(e.target.result);\n",
              "      };\n",
              "      reader.readAsArrayBuffer(file);\n",
              "    });\n",
              "    // Wait for the data to be ready.\n",
              "    let fileData = yield {\n",
              "      promise: fileDataPromise,\n",
              "      response: {\n",
              "        action: 'continue',\n",
              "      }\n",
              "    };\n",
              "\n",
              "    // Use a chunked sending to avoid message size limits. See b/62115660.\n",
              "    let position = 0;\n",
              "    do {\n",
              "      const length = Math.min(fileData.byteLength - position, MAX_PAYLOAD_SIZE);\n",
              "      const chunk = new Uint8Array(fileData, position, length);\n",
              "      position += length;\n",
              "\n",
              "      const base64 = btoa(String.fromCharCode.apply(null, chunk));\n",
              "      yield {\n",
              "        response: {\n",
              "          action: 'append',\n",
              "          file: file.name,\n",
              "          data: base64,\n",
              "        },\n",
              "      };\n",
              "\n",
              "      let percentDone = fileData.byteLength === 0 ?\n",
              "          100 :\n",
              "          Math.round((position / fileData.byteLength) * 100);\n",
              "      percent.textContent = `${percentDone}% done`;\n",
              "\n",
              "    } while (position < fileData.byteLength);\n",
              "  }\n",
              "\n",
              "  // All done.\n",
              "  yield {\n",
              "    response: {\n",
              "      action: 'complete',\n",
              "    }\n",
              "  };\n",
              "}\n",
              "\n",
              "scope.google = scope.google || {};\n",
              "scope.google.colab = scope.google.colab || {};\n",
              "scope.google.colab._files = {\n",
              "  _uploadFiles,\n",
              "  _uploadFilesContinue,\n",
              "};\n",
              "})(self);\n",
              "</script> "
            ]
          },
          "metadata": {}
        },
        {
          "output_type": "stream",
          "name": "stdout",
          "text": [
            "Saving worldfloras.csv to worldfloras.csv\n"
          ]
        }
      ]
    },
    {
      "cell_type": "code",
      "source": [
        "# Load Necessary Library\n",
        "\n",
        "import pandas as pd\n",
        "\n",
        "import re"
      ],
      "metadata": {
        "id": "vfxg0esTwDov"
      },
      "execution_count": 8,
      "outputs": []
    },
    {
      "cell_type": "code",
      "source": [
        "# Read the 'worldfloras.csv' file\n",
        "countries = pd.read_csv('worldfloras.csv')\n",
        "\n",
        "# Display the first few rows of the dataframe\n",
        "print(countries.head())"
      ],
      "metadata": {
        "colab": {
          "base_uri": "https://localhost:8080/",
          "height": 0
        },
        "id": "JvP1ZtdkwNiJ",
        "outputId": "67a5ba5b-17be-4608-b4fb-ed77b7826dd4"
      },
      "execution_count": 12,
      "outputs": [
        {
          "output_type": "stream",
          "name": "stdout",
          "text": [
            "       Country  Latitude    Area  Population   Flora  Endemism Continent\n",
            "0          NaN       NaN     NaN         NaN     NaN       NaN       NaN\n",
            "1  Afghanistan      30.0   636.0        14.3  3000.0     0.270      Asia\n",
            "2          NaN       NaN     NaN         NaN     NaN       NaN       NaN\n",
            "3      Albania      42.0    29.0         3.0  3200.0     0.008    Europe\n",
            "4      Algeria      35.0  2382.0        21.3  3139.0     0.080  N.Africa\n"
          ]
        }
      ]
    },
    {
      "cell_type": "markdown",
      "source": [
        "## Problem 1\n",
        "Display the country names that start with characters ‘D’ or ‘E’.\n",
        "\n",
        "> Answer: Denmark, Dominican Republic, Ecuador, Egypt, El Salvador, Ethiopia"
      ],
      "metadata": {
        "id": "nNJLvMPWtRPZ"
      }
    },
    {
      "cell_type": "code",
      "source": [
        "# Regex pattern to match countries starting with 'D' or 'E'\n",
        "\n",
        "pattern = r'^(D|E)'\n",
        "\n",
        "# Filtering the DataFrame excluding NaN values\n",
        "filtered_countries = countries[countries['Country'].str.match(pattern, na=False)]\n",
        "\n",
        "# Results\n",
        "print(filtered_countries['Country'])"
      ],
      "metadata": {
        "colab": {
          "base_uri": "https://localhost:8080/",
          "height": 0
        },
        "id": "KVQWhsNtt5nH",
        "outputId": "8e34d7f4-2665-4c1d-c447-cb2478694592"
      },
      "execution_count": 19,
      "outputs": [
        {
          "output_type": "stream",
          "name": "stdout",
          "text": [
            "40               Denmark\n",
            "41    Dominican Republic\n",
            "42               Ecuador\n",
            "43                 Egypt\n",
            "44           El Salvador\n",
            "45              Ethiopia\n",
            "Name: Country, dtype: object\n"
          ]
        }
      ]
    },
    {
      "cell_type": "markdown",
      "source": [
        "## Problem 2\n",
        "\n",
        "Display the country names that start with the word ‘New’.\n",
        "\n",
        "> Answer: New Caledonia, New Zealand"
      ],
      "metadata": {
        "id": "6SySxPcft6z6"
      }
    },
    {
      "cell_type": "code",
      "source": [
        "# Regex pattern to match countries starting with 'New'\n",
        "pattern = r'^(New)'\n",
        "\n",
        "# Filtering the DataFrame excluding NaN values\n",
        "filtered_countries = countries[countries['Country'].str.match(pattern, na=False)]\n",
        "\n",
        "# Results\n",
        "print(filtered_countries['Country'])"
      ],
      "metadata": {
        "colab": {
          "base_uri": "https://localhost:8080/",
          "height": 0
        },
        "id": "lBWNEz1LuOYx",
        "outputId": "a84ebc77-d302-4a05-d3a8-e2c40e1896bb"
      },
      "execution_count": 23,
      "outputs": [
        {
          "output_type": "stream",
          "name": "stdout",
          "text": [
            "102    New Caledonia\n",
            "103      New Zealand\n",
            "Name: Country, dtype: object\n"
          ]
        }
      ]
    },
    {
      "cell_type": "markdown",
      "source": [
        "## Problem 3\n",
        "Display the country names that have a character ‘y’ as the 2nd character (indexing starts from 1) in their name.\n",
        "\n",
        "> Answer: Cyprus, Syria"
      ],
      "metadata": {
        "id": "dgybLpmWuOoZ"
      }
    },
    {
      "cell_type": "code",
      "source": [
        "# Regex pattern to match countries with 'y' as the 2nd character\n",
        "\n",
        "pattern = r'^.{1}y'\n",
        "\n",
        "# Filtering the DataFrame excluding NaN values\n",
        "filtered_countries = countries[countries['Country'].str.match(pattern, na=False)]\n",
        "\n",
        "# Results\n",
        "print(filtered_countries['Country'])"
      ],
      "metadata": {
        "colab": {
          "base_uri": "https://localhost:8080/",
          "height": 0
        },
        "id": "7PU-J-I0uaE9",
        "outputId": "9ca3b68b-31ff-4a95-882a-861569f236dd"
      },
      "execution_count": 27,
      "outputs": [
        {
          "output_type": "stream",
          "name": "stdout",
          "text": [
            "38     Cyprus\n",
            "140     Syria\n",
            "Name: Country, dtype: object\n"
          ]
        }
      ]
    },
    {
      "cell_type": "markdown",
      "source": [
        "## Problem 4\n",
        "Display the country names that have a character ‘y’ as the 6th character (indexing starts from 1) in their name.\n",
        "\n",
        "> Answer: Norway, Sicily, Turkey"
      ],
      "metadata": {
        "id": "FRMEFtNlueo9"
      }
    },
    {
      "cell_type": "code",
      "source": [
        "# Regex pattern to match countries with 'y' as the 6th character\n",
        "pattern = r'^.{5}y'\n",
        "\n",
        "# Filtering the DataFrame\n",
        "filtered_countries = countries[countries['Country'].str.match(pattern, na=False)]\n",
        "\n",
        "# Displaying the results\n",
        "print(filtered_countries['Country'])"
      ],
      "metadata": {
        "colab": {
          "base_uri": "https://localhost:8080/",
          "height": 0
        },
        "id": "ILbfAblkupFh",
        "outputId": "97ecd417-8545-49bc-c7c7-a70387ffc766"
      },
      "execution_count": 25,
      "outputs": [
        {
          "output_type": "stream",
          "name": "stdout",
          "text": [
            "107    Norway\n",
            "126    Sicily\n",
            "148    Turkey\n",
            "Name: Country, dtype: object\n"
          ]
        }
      ]
    },
    {
      "cell_type": "markdown",
      "source": [
        "## Problem 5\n",
        "\n",
        "Display the country names that have a character ‘c’ as the 4th character (indexing starts from 1) in their name.\n",
        "\n",
        "> Answer: Czechoslovakia, Liechtenstein, Seychelles"
      ],
      "metadata": {
        "id": "pzylXMgqupUM"
      }
    },
    {
      "cell_type": "code",
      "source": [
        "# Regex pattern to match countries with 'c' as the 4th character\n",
        "pattern = r'^.{3}c'\n",
        "\n",
        "# Filtering the DataFrame\n",
        "filtered_countries = countries[countries['Country'].str.match(pattern, na=False)]\n",
        "\n",
        "# Displaying the results\n",
        "print(filtered_countries['Country'])"
      ],
      "metadata": {
        "colab": {
          "base_uri": "https://localhost:8080/",
          "height": 0
        },
        "id": "hzuHGgriuyHN",
        "outputId": "691e0d73-631a-490e-89d9-af3eb1f3ce7d"
      },
      "execution_count": 28,
      "outputs": [
        {
          "output_type": "stream",
          "name": "stdout",
          "text": [
            "39     Czechoslovakia\n",
            "86      Liechtenstein\n",
            "125        Seychelles\n",
            "Name: Country, dtype: object\n"
          ]
        }
      ]
    }
  ]
}