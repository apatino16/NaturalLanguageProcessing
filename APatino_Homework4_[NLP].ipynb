{
  "nbformat": 4,
  "nbformat_minor": 0,
  "metadata": {
    "colab": {
      "provenance": [],
      "authorship_tag": "ABX9TyNHIdFT66RZJUEUcwumwAMY",
      "include_colab_link": true
    },
    "kernelspec": {
      "name": "python3",
      "display_name": "Python 3"
    },
    "language_info": {
      "name": "python"
    }
  },
  "cells": [
    {
      "cell_type": "markdown",
      "metadata": {
        "id": "view-in-github",
        "colab_type": "text"
      },
      "source": [
        "<a href=\"https://colab.research.google.com/github/apatino16/NaturalLanguageProcessing/blob/main/APatino_Homework4_%5BNLP%5D.ipynb\" target=\"_parent\"><img src=\"https://colab.research.google.com/assets/colab-badge.svg\" alt=\"Open In Colab\"/></a>"
      ]
    },
    {
      "cell_type": "markdown",
      "source": [
        "# *Natural Language Processing* - Winter 2024 - Homework 4\n",
        "\n",
        "\n",
        "\n",
        "> By Anny Patino\n"
      ],
      "metadata": {
        "id": "_ESteW2XSeqA"
      }
    },
    {
      "cell_type": "code",
      "source": [
        "import numpy as np\n",
        "np.set_printoptions(precision=4, suppress=True)\n",
        "from scipy import linalg as lg\n",
        "from scipy.linalg import svd\n",
        "import pandas as pd\n",
        "import matplotlib.pyplot as plt\n",
        "\n",
        "\n",
        "# Scikit-Learn: CountVectorizer and TruncatedSVD\n",
        "from sklearn.feature_extraction.text import CountVectorizer\n",
        "from sklearn.decomposition import TruncatedSVD\n",
        "\n",
        "vectorizer = CountVectorizer()"
      ],
      "metadata": {
        "id": "6SftrGaud43e"
      },
      "execution_count": 217,
      "outputs": []
    },
    {
      "cell_type": "markdown",
      "source": [
        "## Problem 1\n",
        "\n",
        "Compute the Eigen vectors and Eigen values of the following 3 matrices.\n",
        "\n",
        "1.\n",
        "$$\n",
        "\\left[\n",
        "\\begin{matrix}\n",
        "2 & 0 \\\\\n",
        "0 & 5 \\\\\n",
        "\\end{matrix}\n",
        "\\right]\n",
        "$$\n",
        "\n",
        "\n",
        "2.\n",
        "$$\n",
        "\\left[\n",
        "\\begin{matrix}\n",
        "4 & 1 & 6 \\\\\n",
        "0 & 2 & 3 \\\\\n",
        "0 & 0 & 9 \\\\\n",
        "\\end{matrix}\n",
        "\\right]\n",
        "$$\n",
        "\n",
        "\n",
        "3.\n",
        "$$\n",
        "\\left[\n",
        "\\begin{matrix}\n",
        "1 & 4 & 0 & 0 \\\\\n",
        "0 & 2 & 0 & 0 \\\\\n",
        "5 & 3 & 1 & 1 \\\\\n",
        "4 & 7 & 2 & 2 \\\\\n",
        "\\end{matrix}\n",
        "\\right]\n",
        "$$\n"
      ],
      "metadata": {
        "id": "qWvppWM1SxxZ"
      }
    },
    {
      "cell_type": "code",
      "execution_count": 170,
      "metadata": {
        "colab": {
          "base_uri": "https://localhost:8080/",
          "height": 0
        },
        "id": "NXsQ51jOQ3g7",
        "outputId": "893bbeb1-9579-4473-901f-db67cf82cc23"
      },
      "outputs": [
        {
          "output_type": "stream",
          "name": "stdout",
          "text": [
            "\n",
            "Values for the first matrix:\n",
            "[2.+0.j 5.+0.j]\n",
            "\n",
            "Vectors for the first matrix:\n",
            "[[1. 0.]\n",
            " [0. 1.]]\n"
          ]
        }
      ],
      "source": [
        "# Eigen vectors and Eigen values of matrix 1\n",
        "m1 = np.array([[2,0], [0,5]])\n",
        "# print(m1)\n",
        "\n",
        "values_m1, vector_m1 = lg.eig(m1)\n",
        "\n",
        "print(\"\\nValues for the first matrix:\")\n",
        "print(values_m1)\n",
        "\n",
        "print(\"\\nVectors for the first matrix:\")\n",
        "print(vector_m1)"
      ]
    },
    {
      "cell_type": "code",
      "source": [
        "# Eigen vectors and Eigen values of matrix 2\n",
        "m2 = np.array([[4, 1, 6], [0, 2, 3], [0, 0, 9]])\n",
        "# print(m2)\n",
        "\n",
        "values_m2, vector_m2 = lg.eig(m2)\n",
        "\n",
        "print(\"\\nValues for the second matrix:\")\n",
        "print(values_m2)\n",
        "\n",
        "print(\"\\nVectors for the second matrix:\")\n",
        "print(vector_m2)"
      ],
      "metadata": {
        "colab": {
          "base_uri": "https://localhost:8080/",
          "height": 0
        },
        "id": "og4NYu4ofbGu",
        "outputId": "97670d44-758b-4011-d02b-476ce9ad2e49"
      },
      "execution_count": 171,
      "outputs": [
        {
          "output_type": "stream",
          "name": "stdout",
          "text": [
            "\n",
            "Values for the second matrix:\n",
            "[4.+0.j 2.+0.j 9.+0.j]\n",
            "\n",
            "Vectors for the second matrix:\n",
            "[[ 1.     -0.4472  0.7634]\n",
            " [ 0.      0.8944  0.2545]\n",
            " [ 0.      0.      0.5937]]\n"
          ]
        }
      ]
    },
    {
      "cell_type": "code",
      "source": [
        "# Eigen vectors and Eigen values of matrix 3\n",
        "m3 = np.array([[1, 4, 0, 0], [0, 2, 0, 0], [5, 3, 1, 1], [4, 7, 2, 2]])\n",
        "# print(m3)\n",
        "\n",
        "values_m3, vector_m3 = lg.eig(m3)\n",
        "\n",
        "print(\"\\nValues for the third matrix:\")\n",
        "print(values_m3)\n",
        "\n",
        "print(\"\\nVectors for the third matrix:\")\n",
        "print(vector_m3)\n"
      ],
      "metadata": {
        "colab": {
          "base_uri": "https://localhost:8080/",
          "height": 0
        },
        "id": "lFltoM4HfdS6",
        "outputId": "74147cfc-a3e8-4525-9990-86188c8c003b"
      },
      "execution_count": 172,
      "outputs": [
        {
          "output_type": "stream",
          "name": "stdout",
          "text": [
            "\n",
            "Values for the third matrix:\n",
            "[0.+0.j 3.+0.j 1.+0.j 2.+0.j]\n",
            "\n",
            "Vectors for the third matrix:\n",
            "[[ 0.      0.      0.1952  0.1093]\n",
            " [ 0.      0.      0.      0.0273]\n",
            " [-0.7071 -0.4472  0.0976 -0.3142]\n",
            " [ 0.7071 -0.8944 -0.9759 -0.9426]]\n"
          ]
        }
      ]
    },
    {
      "cell_type": "markdown",
      "source": [
        "Can we compute the Eigen values and Eigen vectors of a non-square matrix?\n",
        "\n",
        "> Eigen values and eigen vectors are inherently defined for square matrices because they arise from solving the characteristic equation\n",
        "`det(A−λI)=0`, where `A` is the matrix, `λ` are the eigenvalues, and `I` is the identity matrix of the same dimensions as A.\n",
        "\n",
        "> A square matrix is defined by having an equal number of rows and columns, which is the case for all three of these matrices: matrix m1 is a 2x2 matrix, with 2 rows and 2 columns; matrix m2 is a 3x3 matrix, with 3 rows and 3 columns; and matrix m3 is a 4x4 matrix, with 4 rows and 4 columns.\n",
        "\n",
        "> The Eigen Values and Eigen Vectors of a non-square matrix is not defined and will raised a value error `ValueError: expected square matrix`"
      ],
      "metadata": {
        "id": "hEUjZlZHiP03"
      }
    },
    {
      "cell_type": "markdown",
      "source": [
        "## Problem 2\n",
        "\n",
        "Compute the SVD (Singular Value Decomposition) (3 separate matrices U,Sigma,V) of the following matrix.\n",
        "\n",
        "$$ A =\n",
        "\\left[\n",
        "\\begin{matrix}\n",
        "5 & 7 & 21 & 32 \\\\\n",
        "0 & 3 & 43 & 24 \\\\\n",
        "2 & 36 & 95 & 84 \\\\\n",
        "92 & 37 & 57 & 64 \\\\\n",
        "\\end{matrix}\n",
        "\\right]\n",
        "$$\n",
        "\n"
      ],
      "metadata": {
        "id": "nr3VNzrqS03u"
      }
    },
    {
      "cell_type": "code",
      "source": [
        "# Create the matrix A\n",
        "A = np.array([[5, 7, 21, 32], [0, 3, 43, 24], [2, 36, 95, 84], [92, 37, 57, 64]])\n",
        "print(\"Matrix A:\")\n",
        "print(A)\n",
        "\n",
        "# Compute the Singular Value Decomposition\n",
        "U, Sigma, VT = svd(A)\n",
        "\n",
        "\n",
        "\n",
        "\n",
        "print(\"\\nMatrix U (Left Singular Vectors):\")\n",
        "print(U)\n",
        "print(\"\\nSigma matrix:\")\n",
        "print(Sigma)\n",
        "print(\"\\nMatrix V^T (Right Singular Vectors):\")\n",
        "print(VT)"
      ],
      "metadata": {
        "colab": {
          "base_uri": "https://localhost:8080/",
          "height": 0
        },
        "id": "wahQ9mz9S2Y8",
        "outputId": "080d1bd8-4285-4466-bce7-792307a36212"
      },
      "execution_count": 173,
      "outputs": [
        {
          "output_type": "stream",
          "name": "stdout",
          "text": [
            "Matrix A:\n",
            "[[ 5  7 21 32]\n",
            " [ 0  3 43 24]\n",
            " [ 2 36 95 84]\n",
            " [92 37 57 64]]\n",
            "\n",
            "Matrix U (Left Singular Vectors):\n",
            "[[-0.2047 -0.1045 -0.5134 -0.8268]\n",
            " [-0.2402 -0.2629  0.8326 -0.4243]\n",
            " [-0.686  -0.5954 -0.1983  0.3682]\n",
            " [-0.6556  0.7519  0.0627  0.0283]]\n",
            "\n",
            "Sigma matrix:\n",
            "[181.0895  73.8151  14.8546   8.3222]\n",
            "\n",
            "Matrix V^T (Right Singular Vectors):\n",
            "[[-0.3463 -0.2822 -0.647  -0.6179]\n",
            " [ 0.914   0.0659 -0.3686 -0.1564]\n",
            " [ 0.1889 -0.3981  0.6569 -0.6119]\n",
            " [-0.0951  0.8704  0.1186 -0.4684]]\n"
          ]
        }
      ]
    },
    {
      "cell_type": "markdown",
      "source": [
        "Verify that by multiplying (Matrix multiplication) of the 3 SVD matrices will result in the original matrix."
      ],
      "metadata": {
        "id": "9b4ksCGwGDNM"
      }
    },
    {
      "cell_type": "code",
      "source": [
        "# Create extended sigma matrix\n",
        "sigmaMatrix = np.diag(Sigma)\n",
        "# print(sigmaMatrix)\n",
        "\n",
        "# Reconstruct the original matrix by multiplying U, Sigma, and V^T\n",
        "A_reconstructed = U.dot(sigmaMatrix).dot(VT)\n",
        "\n",
        "# Print the reconstructed matrix\n",
        "print(\"Reconstructed Matrix A:\")\n",
        "print(A_reconstructed)\n",
        "\n",
        "print('\\n Original Matrix A: \\n' , A)\n",
        "\n",
        "# Check if the reconstructed matrix matches the original\n",
        "if np.allclose(A, A_reconstructed):\n",
        "    print(\"\\nThe reconstructed matrix matches the original matrix.\")\n",
        "else:\n",
        "    print(\"\\nThe reconstructed matrix does not match the original matrix.\")"
      ],
      "metadata": {
        "colab": {
          "base_uri": "https://localhost:8080/",
          "height": 0
        },
        "id": "bRg9nqqJ_czq",
        "outputId": "ba0ebb3a-f951-4755-87ea-eed1ba7da4ef"
      },
      "execution_count": 174,
      "outputs": [
        {
          "output_type": "stream",
          "name": "stdout",
          "text": [
            "Reconstructed Matrix A:\n",
            "[[ 5.  7. 21. 32.]\n",
            " [-0.  3. 43. 24.]\n",
            " [ 2. 36. 95. 84.]\n",
            " [92. 37. 57. 64.]]\n",
            "\n",
            " Original Matrix A: \n",
            " [[ 5  7 21 32]\n",
            " [ 0  3 43 24]\n",
            " [ 2 36 95 84]\n",
            " [92 37 57 64]]\n",
            "\n",
            "The reconstructed matrix matches the original matrix.\n"
          ]
        }
      ]
    },
    {
      "cell_type": "markdown",
      "source": [
        "## Problem 3\n",
        "\n",
        "Start with Matrix A created in the previous problem.\n",
        "\n",
        "Make the first row of matrix ‘A’ be the sum of the 2nd and the 3rd rows. Make the last row of Matrix A same as the 2nd row.\n",
        "\n",
        "Compute the SVD of this new matrix."
      ],
      "metadata": {
        "id": "gdoES10tS2rg"
      }
    },
    {
      "cell_type": "code",
      "source": [
        "# Modify the matrix A according to the instructions\n",
        "A[0] = A[1] + A[2]\n",
        "A[-1] = A[1]\n",
        "A_modified = A\n",
        "\n",
        "# Print the modified matrix A to verify the changes\n",
        "print(\"Modified Matrix A:\")\n",
        "print(A_modified)\n",
        "\n",
        "# Compute the Singular Value Decomposition\n",
        "U_modified, Sigma_modified, VT_modified = svd(A_modified)\n",
        "\n",
        "# Convert Sigma into a diagonal matrix and print\n",
        "sigmaMatrix_modified = np.diag(Sigma_modified)\n",
        "print(\"\\nSigma matrix of the modified A matrix:\")\n",
        "print(sigmaMatrix_modified)"
      ],
      "metadata": {
        "colab": {
          "base_uri": "https://localhost:8080/",
          "height": 0
        },
        "id": "ig9p9OksS4BK",
        "outputId": "7bff90d1-8606-4f7b-939b-4327ee276c4b"
      },
      "execution_count": 175,
      "outputs": [
        {
          "output_type": "stream",
          "name": "stdout",
          "text": [
            "Modified Matrix A:\n",
            "[[  2  39 138 108]\n",
            " [  0   3  43  24]\n",
            " [  2  36  95  84]\n",
            " [  0   3  43  24]]\n",
            "\n",
            "Sigma matrix of the modified A matrix:\n",
            "[[232.67     0.       0.       0.    ]\n",
            " [  0.      18.6197   0.       0.    ]\n",
            " [  0.       0.       0.       0.    ]\n",
            " [  0.       0.       0.       0.    ]]\n"
          ]
        }
      ]
    },
    {
      "cell_type": "markdown",
      "source": [
        "Why the last 2 values of the ‘Sigma’ matrix values are zeros. Explain.\n",
        "\n",
        "> Because of the linear dependencies introduced by the modifications to A, the effective rank of A is reduced. The rank is now less than the number of rows (or columns, since A is square). This reduction in rank is directly reflected in the `Σ` matrix as zero values. Each non-zero singular value corresponds to a dimension of the vector space spanned by the matrix's rows (or columns), and a zero singular value indicates a dimension that's been collapsed due to linear dependencies."
      ],
      "metadata": {
        "id": "n3ZyCakaKYNj"
      }
    },
    {
      "cell_type": "markdown",
      "source": [
        "## Problem 4\n",
        "\n",
        "Compute the SVD (Singular Value Decomposition) (3 separate matrices U, Sigma, V) of the following 2 rectangular matrices.\n",
        "\n",
        "4.\n",
        "$$\n",
        "\\left[\n",
        "\\begin{matrix}\n",
        "3 & 1 & 1 \\\\\n",
        "-1 & 3 & 1 \\\\\n",
        "\\end{matrix}\n",
        "\\right]\n",
        "$$\n",
        "\n",
        "\n",
        "5.\n",
        "$$\n",
        "\\left[\n",
        "\\begin{matrix}\n",
        "1 & 1 \\\\\n",
        "0 & 1 \\\\\n",
        "-1 & 1 \\\\\n",
        "\\end{matrix}\n",
        "\\right]\n",
        "$$\n",
        "\n",
        "Verify that by multiplying (Matrix multiplication) the 3 SVD matrices will result in the original matrix."
      ],
      "metadata": {
        "id": "iAFCfOpRS4Re"
      }
    },
    {
      "cell_type": "code",
      "source": [
        "# Define the matrices m4 and m5\n",
        "m4 = np.array([[3, 1, 1], [-1, 3, 1]])\n",
        "m5 = np.array([[1, 1], [0, 1], [-1, 1]])\n",
        "\n",
        "# Compute the SVD for m4 and m5\n",
        "U4, Sigma4, VT4 = svd(m4, full_matrices=False)\n",
        "U5, Sigma5, VT5 = svd(m5, full_matrices=False)\n",
        "\n",
        "# Convert the Sigma arrays into diagonal matrices for m4 and m5\n",
        "Sigma_mat4 = np.diag(Sigma4)\n",
        "Sigma_mat5 = np.diag(Sigma5)\n",
        "\n",
        "# Reconstruct m4 and m5 by multiplying the SVD components\n",
        "m4_reconstructed = U4 @ Sigma_mat4 @ VT4\n",
        "m5_reconstructed = U5 @ Sigma_mat5 @ VT5\n",
        "\n",
        "# Print the original and reconstructed matrices for comparison\n",
        "print(\"Original m4:\")\n",
        "print(m4)\n",
        "print(\"\\nReconstructed m4:\")\n",
        "print(m4_reconstructed)\n",
        "\n",
        "print(\"\\nOriginal m5:\")\n",
        "print(m5)\n",
        "print(\"\\nReconstructed m5:\")\n",
        "print(m5_reconstructed)"
      ],
      "metadata": {
        "colab": {
          "base_uri": "https://localhost:8080/",
          "height": 0
        },
        "id": "BrsAa9FqQM9B",
        "outputId": "0395b800-fbd3-45de-b064-994d3be3ce48"
      },
      "execution_count": 176,
      "outputs": [
        {
          "output_type": "stream",
          "name": "stdout",
          "text": [
            "Original m4:\n",
            "[[ 3  1  1]\n",
            " [-1  3  1]]\n",
            "\n",
            "Reconstructed m4:\n",
            "[[ 3.  1.  1.]\n",
            " [-1.  3.  1.]]\n",
            "\n",
            "Original m5:\n",
            "[[ 1  1]\n",
            " [ 0  1]\n",
            " [-1  1]]\n",
            "\n",
            "Reconstructed m5:\n",
            "[[ 1.  1.]\n",
            " [ 0.  1.]\n",
            " [-1.  1.]]\n"
          ]
        }
      ]
    },
    {
      "cell_type": "markdown",
      "source": [
        "## Problem 5.0\n",
        "\n",
        "Using the Singular Value Decomposition (SVD) principals, perform the Latent Semantics Analysis\n",
        "(LSA) of the following 6 documents. Divide these documents into 2 different topics."
      ],
      "metadata": {
        "id": "wAEXjfWnS5ne"
      }
    },
    {
      "cell_type": "code",
      "source": [
        "# Corpus\n",
        "corpus = [\n",
        "'runs',\n",
        "'runs pitcher innings',\n",
        "'pitcher',\n",
        "'touchdown',\n",
        "'quarterback',\n",
        "'touchdown quarterback']\n",
        "\n",
        "print(corpus)"
      ],
      "metadata": {
        "colab": {
          "base_uri": "https://localhost:8080/",
          "height": 0
        },
        "id": "IANHlDyNS62i",
        "outputId": "4ca86f9d-0ca2-4306-a08e-afed87de97d3"
      },
      "execution_count": 177,
      "outputs": [
        {
          "output_type": "stream",
          "name": "stdout",
          "text": [
            "['runs', 'runs pitcher innings', 'pitcher', 'touchdown', 'quarterback', 'touchdown quarterback']\n"
          ]
        }
      ]
    },
    {
      "cell_type": "code",
      "source": [
        "# Bag of Words\n",
        "bag_of_words = vectorizer.fit_transform(corpus)\n",
        "print(bag_of_words)"
      ],
      "metadata": {
        "colab": {
          "base_uri": "https://localhost:8080/",
          "height": 0
        },
        "id": "VGLFJprqXTi_",
        "outputId": "3af42a77-a3a7-4f4b-f842-2a185fb601c7"
      },
      "execution_count": 178,
      "outputs": [
        {
          "output_type": "stream",
          "name": "stdout",
          "text": [
            "  (0, 3)\t1\n",
            "  (1, 3)\t1\n",
            "  (1, 1)\t1\n",
            "  (1, 0)\t1\n",
            "  (2, 1)\t1\n",
            "  (3, 4)\t1\n",
            "  (4, 2)\t1\n",
            "  (5, 4)\t1\n",
            "  (5, 2)\t1\n"
          ]
        }
      ]
    },
    {
      "cell_type": "code",
      "source": [
        "# Pandas dataframe count vector\n",
        "\n",
        "# Document & Words\n",
        "df = pd.DataFrame(bag_of_words.toarray(), columns = vectorizer.get_feature_names_out())\n",
        "print(df)\n",
        "\n",
        "# Words & Documents\n",
        "df.T"
      ],
      "metadata": {
        "colab": {
          "base_uri": "https://localhost:8080/",
          "height": 328
        },
        "id": "V7UVbDhZSkVS",
        "outputId": "44128a09-e85d-41d3-defc-a7b1d1565fc0"
      },
      "execution_count": 179,
      "outputs": [
        {
          "output_type": "stream",
          "name": "stdout",
          "text": [
            "   innings  pitcher  quarterback  runs  touchdown\n",
            "0        0        0            0     1          0\n",
            "1        1        1            0     1          0\n",
            "2        0        1            0     0          0\n",
            "3        0        0            0     0          1\n",
            "4        0        0            1     0          0\n",
            "5        0        0            1     0          1\n"
          ]
        },
        {
          "output_type": "execute_result",
          "data": {
            "text/plain": [
              "             0  1  2  3  4  5\n",
              "innings      0  1  0  0  0  0\n",
              "pitcher      0  1  1  0  0  0\n",
              "quarterback  0  0  0  0  1  1\n",
              "runs         1  1  0  0  0  0\n",
              "touchdown    0  0  0  1  0  1"
            ],
            "text/html": [
              "\n",
              "  <div id=\"df-e385f534-0200-4a07-87e2-976e63b79df1\" class=\"colab-df-container\">\n",
              "    <div>\n",
              "<style scoped>\n",
              "    .dataframe tbody tr th:only-of-type {\n",
              "        vertical-align: middle;\n",
              "    }\n",
              "\n",
              "    .dataframe tbody tr th {\n",
              "        vertical-align: top;\n",
              "    }\n",
              "\n",
              "    .dataframe thead th {\n",
              "        text-align: right;\n",
              "    }\n",
              "</style>\n",
              "<table border=\"1\" class=\"dataframe\">\n",
              "  <thead>\n",
              "    <tr style=\"text-align: right;\">\n",
              "      <th></th>\n",
              "      <th>0</th>\n",
              "      <th>1</th>\n",
              "      <th>2</th>\n",
              "      <th>3</th>\n",
              "      <th>4</th>\n",
              "      <th>5</th>\n",
              "    </tr>\n",
              "  </thead>\n",
              "  <tbody>\n",
              "    <tr>\n",
              "      <th>innings</th>\n",
              "      <td>0</td>\n",
              "      <td>1</td>\n",
              "      <td>0</td>\n",
              "      <td>0</td>\n",
              "      <td>0</td>\n",
              "      <td>0</td>\n",
              "    </tr>\n",
              "    <tr>\n",
              "      <th>pitcher</th>\n",
              "      <td>0</td>\n",
              "      <td>1</td>\n",
              "      <td>1</td>\n",
              "      <td>0</td>\n",
              "      <td>0</td>\n",
              "      <td>0</td>\n",
              "    </tr>\n",
              "    <tr>\n",
              "      <th>quarterback</th>\n",
              "      <td>0</td>\n",
              "      <td>0</td>\n",
              "      <td>0</td>\n",
              "      <td>0</td>\n",
              "      <td>1</td>\n",
              "      <td>1</td>\n",
              "    </tr>\n",
              "    <tr>\n",
              "      <th>runs</th>\n",
              "      <td>1</td>\n",
              "      <td>1</td>\n",
              "      <td>0</td>\n",
              "      <td>0</td>\n",
              "      <td>0</td>\n",
              "      <td>0</td>\n",
              "    </tr>\n",
              "    <tr>\n",
              "      <th>touchdown</th>\n",
              "      <td>0</td>\n",
              "      <td>0</td>\n",
              "      <td>0</td>\n",
              "      <td>1</td>\n",
              "      <td>0</td>\n",
              "      <td>1</td>\n",
              "    </tr>\n",
              "  </tbody>\n",
              "</table>\n",
              "</div>\n",
              "    <div class=\"colab-df-buttons\">\n",
              "\n",
              "  <div class=\"colab-df-container\">\n",
              "    <button class=\"colab-df-convert\" onclick=\"convertToInteractive('df-e385f534-0200-4a07-87e2-976e63b79df1')\"\n",
              "            title=\"Convert this dataframe to an interactive table.\"\n",
              "            style=\"display:none;\">\n",
              "\n",
              "  <svg xmlns=\"http://www.w3.org/2000/svg\" height=\"24px\" viewBox=\"0 -960 960 960\">\n",
              "    <path d=\"M120-120v-720h720v720H120Zm60-500h600v-160H180v160Zm220 220h160v-160H400v160Zm0 220h160v-160H400v160ZM180-400h160v-160H180v160Zm440 0h160v-160H620v160ZM180-180h160v-160H180v160Zm440 0h160v-160H620v160Z\"/>\n",
              "  </svg>\n",
              "    </button>\n",
              "\n",
              "  <style>\n",
              "    .colab-df-container {\n",
              "      display:flex;\n",
              "      gap: 12px;\n",
              "    }\n",
              "\n",
              "    .colab-df-convert {\n",
              "      background-color: #E8F0FE;\n",
              "      border: none;\n",
              "      border-radius: 50%;\n",
              "      cursor: pointer;\n",
              "      display: none;\n",
              "      fill: #1967D2;\n",
              "      height: 32px;\n",
              "      padding: 0 0 0 0;\n",
              "      width: 32px;\n",
              "    }\n",
              "\n",
              "    .colab-df-convert:hover {\n",
              "      background-color: #E2EBFA;\n",
              "      box-shadow: 0px 1px 2px rgba(60, 64, 67, 0.3), 0px 1px 3px 1px rgba(60, 64, 67, 0.15);\n",
              "      fill: #174EA6;\n",
              "    }\n",
              "\n",
              "    .colab-df-buttons div {\n",
              "      margin-bottom: 4px;\n",
              "    }\n",
              "\n",
              "    [theme=dark] .colab-df-convert {\n",
              "      background-color: #3B4455;\n",
              "      fill: #D2E3FC;\n",
              "    }\n",
              "\n",
              "    [theme=dark] .colab-df-convert:hover {\n",
              "      background-color: #434B5C;\n",
              "      box-shadow: 0px 1px 3px 1px rgba(0, 0, 0, 0.15);\n",
              "      filter: drop-shadow(0px 1px 2px rgba(0, 0, 0, 0.3));\n",
              "      fill: #FFFFFF;\n",
              "    }\n",
              "  </style>\n",
              "\n",
              "    <script>\n",
              "      const buttonEl =\n",
              "        document.querySelector('#df-e385f534-0200-4a07-87e2-976e63b79df1 button.colab-df-convert');\n",
              "      buttonEl.style.display =\n",
              "        google.colab.kernel.accessAllowed ? 'block' : 'none';\n",
              "\n",
              "      async function convertToInteractive(key) {\n",
              "        const element = document.querySelector('#df-e385f534-0200-4a07-87e2-976e63b79df1');\n",
              "        const dataTable =\n",
              "          await google.colab.kernel.invokeFunction('convertToInteractive',\n",
              "                                                    [key], {});\n",
              "        if (!dataTable) return;\n",
              "\n",
              "        const docLinkHtml = 'Like what you see? Visit the ' +\n",
              "          '<a target=\"_blank\" href=https://colab.research.google.com/notebooks/data_table.ipynb>data table notebook</a>'\n",
              "          + ' to learn more about interactive tables.';\n",
              "        element.innerHTML = '';\n",
              "        dataTable['output_type'] = 'display_data';\n",
              "        await google.colab.output.renderOutput(dataTable, element);\n",
              "        const docLink = document.createElement('div');\n",
              "        docLink.innerHTML = docLinkHtml;\n",
              "        element.appendChild(docLink);\n",
              "      }\n",
              "    </script>\n",
              "  </div>\n",
              "\n",
              "\n",
              "<div id=\"df-6fde351d-0618-487c-a03c-93bfc9dad7b4\">\n",
              "  <button class=\"colab-df-quickchart\" onclick=\"quickchart('df-6fde351d-0618-487c-a03c-93bfc9dad7b4')\"\n",
              "            title=\"Suggest charts\"\n",
              "            style=\"display:none;\">\n",
              "\n",
              "<svg xmlns=\"http://www.w3.org/2000/svg\" height=\"24px\"viewBox=\"0 0 24 24\"\n",
              "     width=\"24px\">\n",
              "    <g>\n",
              "        <path d=\"M19 3H5c-1.1 0-2 .9-2 2v14c0 1.1.9 2 2 2h14c1.1 0 2-.9 2-2V5c0-1.1-.9-2-2-2zM9 17H7v-7h2v7zm4 0h-2V7h2v10zm4 0h-2v-4h2v4z\"/>\n",
              "    </g>\n",
              "</svg>\n",
              "  </button>\n",
              "\n",
              "<style>\n",
              "  .colab-df-quickchart {\n",
              "      --bg-color: #E8F0FE;\n",
              "      --fill-color: #1967D2;\n",
              "      --hover-bg-color: #E2EBFA;\n",
              "      --hover-fill-color: #174EA6;\n",
              "      --disabled-fill-color: #AAA;\n",
              "      --disabled-bg-color: #DDD;\n",
              "  }\n",
              "\n",
              "  [theme=dark] .colab-df-quickchart {\n",
              "      --bg-color: #3B4455;\n",
              "      --fill-color: #D2E3FC;\n",
              "      --hover-bg-color: #434B5C;\n",
              "      --hover-fill-color: #FFFFFF;\n",
              "      --disabled-bg-color: #3B4455;\n",
              "      --disabled-fill-color: #666;\n",
              "  }\n",
              "\n",
              "  .colab-df-quickchart {\n",
              "    background-color: var(--bg-color);\n",
              "    border: none;\n",
              "    border-radius: 50%;\n",
              "    cursor: pointer;\n",
              "    display: none;\n",
              "    fill: var(--fill-color);\n",
              "    height: 32px;\n",
              "    padding: 0;\n",
              "    width: 32px;\n",
              "  }\n",
              "\n",
              "  .colab-df-quickchart:hover {\n",
              "    background-color: var(--hover-bg-color);\n",
              "    box-shadow: 0 1px 2px rgba(60, 64, 67, 0.3), 0 1px 3px 1px rgba(60, 64, 67, 0.15);\n",
              "    fill: var(--button-hover-fill-color);\n",
              "  }\n",
              "\n",
              "  .colab-df-quickchart-complete:disabled,\n",
              "  .colab-df-quickchart-complete:disabled:hover {\n",
              "    background-color: var(--disabled-bg-color);\n",
              "    fill: var(--disabled-fill-color);\n",
              "    box-shadow: none;\n",
              "  }\n",
              "\n",
              "  .colab-df-spinner {\n",
              "    border: 2px solid var(--fill-color);\n",
              "    border-color: transparent;\n",
              "    border-bottom-color: var(--fill-color);\n",
              "    animation:\n",
              "      spin 1s steps(1) infinite;\n",
              "  }\n",
              "\n",
              "  @keyframes spin {\n",
              "    0% {\n",
              "      border-color: transparent;\n",
              "      border-bottom-color: var(--fill-color);\n",
              "      border-left-color: var(--fill-color);\n",
              "    }\n",
              "    20% {\n",
              "      border-color: transparent;\n",
              "      border-left-color: var(--fill-color);\n",
              "      border-top-color: var(--fill-color);\n",
              "    }\n",
              "    30% {\n",
              "      border-color: transparent;\n",
              "      border-left-color: var(--fill-color);\n",
              "      border-top-color: var(--fill-color);\n",
              "      border-right-color: var(--fill-color);\n",
              "    }\n",
              "    40% {\n",
              "      border-color: transparent;\n",
              "      border-right-color: var(--fill-color);\n",
              "      border-top-color: var(--fill-color);\n",
              "    }\n",
              "    60% {\n",
              "      border-color: transparent;\n",
              "      border-right-color: var(--fill-color);\n",
              "    }\n",
              "    80% {\n",
              "      border-color: transparent;\n",
              "      border-right-color: var(--fill-color);\n",
              "      border-bottom-color: var(--fill-color);\n",
              "    }\n",
              "    90% {\n",
              "      border-color: transparent;\n",
              "      border-bottom-color: var(--fill-color);\n",
              "    }\n",
              "  }\n",
              "</style>\n",
              "\n",
              "  <script>\n",
              "    async function quickchart(key) {\n",
              "      const quickchartButtonEl =\n",
              "        document.querySelector('#' + key + ' button');\n",
              "      quickchartButtonEl.disabled = true;  // To prevent multiple clicks.\n",
              "      quickchartButtonEl.classList.add('colab-df-spinner');\n",
              "      try {\n",
              "        const charts = await google.colab.kernel.invokeFunction(\n",
              "            'suggestCharts', [key], {});\n",
              "      } catch (error) {\n",
              "        console.error('Error during call to suggestCharts:', error);\n",
              "      }\n",
              "      quickchartButtonEl.classList.remove('colab-df-spinner');\n",
              "      quickchartButtonEl.classList.add('colab-df-quickchart-complete');\n",
              "    }\n",
              "    (() => {\n",
              "      let quickchartButtonEl =\n",
              "        document.querySelector('#df-6fde351d-0618-487c-a03c-93bfc9dad7b4 button');\n",
              "      quickchartButtonEl.style.display =\n",
              "        google.colab.kernel.accessAllowed ? 'block' : 'none';\n",
              "    })();\n",
              "  </script>\n",
              "</div>\n",
              "    </div>\n",
              "  </div>\n"
            ]
          },
          "metadata": {},
          "execution_count": 179
        }
      ]
    },
    {
      "cell_type": "markdown",
      "source": [
        "## Problem 5.1\n",
        "Using the SK Learn CounVectorizer function, vectorize all the 6 documents in the corpus.\n",
        "\n",
        "Compute the “cosine similarity” & “cosine distance” between all the 6 document’s normalized vectors."
      ],
      "metadata": {
        "id": "7FJahXLrXT6B"
      }
    },
    {
      "cell_type": "code",
      "source": [
        "# Norm of a vector\n",
        "def normalized (pt1):\n",
        "  return pt1/ np.linalg.norm(pt1)\n",
        "\n",
        "# Create Vectors\n",
        "\n",
        "A = bag_of_words.toarray()[0]\n",
        "B = bag_of_words.toarray()[1]\n",
        "C = bag_of_words.toarray()[2]\n",
        "D = bag_of_words.toarray()[3]\n",
        "E = bag_of_words.toarray()[4]\n",
        "F = bag_of_words.toarray()[5]\n",
        "\n",
        "vectors = [A, B, C, D, E, F]\n",
        "print(vectors)\n",
        "\n",
        "# Create Normalized Vectors\n",
        "Anormalized = normalized(A)\n",
        "Bnormalized = normalized(B)\n",
        "Cnormalized = normalized(C)\n",
        "Dnormalized = normalized(D)\n",
        "Enormalized = normalized(E)\n",
        "Fnormalized = normalized(F)\n",
        "\n",
        "vectorsNormalized= [Anormalized, Bnormalized, Cnormalized, Dnormalized, Enormalized, Fnormalized]\n",
        "print(vectorsNormalized)"
      ],
      "metadata": {
        "colab": {
          "base_uri": "https://localhost:8080/",
          "height": 0
        },
        "id": "_k-LaF_kUeQA",
        "outputId": "8d1a2047-582f-48c7-e792-26199b457fec"
      },
      "execution_count": 180,
      "outputs": [
        {
          "output_type": "stream",
          "name": "stdout",
          "text": [
            "[array([0, 0, 0, 1, 0]), array([1, 1, 0, 1, 0]), array([0, 1, 0, 0, 0]), array([0, 0, 0, 0, 1]), array([0, 0, 1, 0, 0]), array([0, 0, 1, 0, 1])]\n",
            "[array([0., 0., 0., 1., 0.]), array([0.5774, 0.5774, 0.    , 0.5774, 0.    ]), array([0., 1., 0., 0., 0.]), array([0., 0., 0., 0., 1.]), array([0., 0., 1., 0., 0.]), array([0.    , 0.    , 0.7071, 0.    , 0.7071])]\n"
          ]
        }
      ]
    },
    {
      "cell_type": "code",
      "source": [
        "# Cosine Similarity\n",
        "\n",
        "def cosine_Similarity (pt1, pt2):\n",
        "  return np.dot(pt1, pt2)\n",
        "\n",
        "# Compute Cosine Similarity\n",
        "\n",
        "numDocu = len(corpus)\n",
        "#print(numDocu)\n",
        "\n",
        "cosine_SimMatrix= np.zeros((numDocu, numDocu))\n",
        "cosine_DistMatrix = np.zeros((numDocu, numDocu))\n",
        "\n",
        "for i in range(numDocu):\n",
        "  for j in range(numDocu):\n",
        "    cosine_SimMatrix[i, j] = cosine_Similarity(vectorsNormalized[i], vectorsNormalized[j])\n",
        "\n",
        "    cosine_DistMatrix[i, j] = 1 - cosine_SimMatrix[i, j]\n",
        "\n",
        "print('Cosine Similarity')\n",
        "print(cosine_SimMatrix)\n",
        "\n",
        "print()\n",
        "\n",
        "print('Cosine Distance')\n",
        "print(cosine_DistMatrix)"
      ],
      "metadata": {
        "colab": {
          "base_uri": "https://localhost:8080/",
          "height": 0
        },
        "id": "AUAHECAtXgQG",
        "outputId": "e1546e61-6f11-4c09-c6ae-b763c4b4bbb2"
      },
      "execution_count": 181,
      "outputs": [
        {
          "output_type": "stream",
          "name": "stdout",
          "text": [
            "Cosine Similarity\n",
            "[[1.     0.5774 0.     0.     0.     0.    ]\n",
            " [0.5774 1.     0.5774 0.     0.     0.    ]\n",
            " [0.     0.5774 1.     0.     0.     0.    ]\n",
            " [0.     0.     0.     1.     0.     0.7071]\n",
            " [0.     0.     0.     0.     1.     0.7071]\n",
            " [0.     0.     0.     0.7071 0.7071 1.    ]]\n",
            "\n",
            "Cosine Distance\n",
            "[[ 0.      0.4226  1.      1.      1.      1.    ]\n",
            " [ 0.4226 -0.      0.4226  1.      1.      1.    ]\n",
            " [ 1.      0.4226  0.      1.      1.      1.    ]\n",
            " [ 1.      1.      1.      0.      1.      0.2929]\n",
            " [ 1.      1.      1.      1.      0.      0.2929]\n",
            " [ 1.      1.      1.      0.2929  0.2929  0.    ]]\n"
          ]
        }
      ]
    },
    {
      "cell_type": "markdown",
      "source": [
        "## Problem 5.2\n",
        "Compute the ‘Document Term Matrix’ (DTM) and ‘Term (Word) Document Matrix’ (TDM) using the document’s vectors."
      ],
      "metadata": {
        "id": "PibUYHEkXhFE"
      }
    },
    {
      "cell_type": "code",
      "source": [
        "# Word Matrix\n",
        "# Document Document\n",
        "\n",
        "A_Word = bag_of_words.todense().T\n",
        "print('Term - Word - Document Matrix - TDM')\n",
        "print('5 Words x 6 Document')\n",
        "print(A_Word)\n",
        "\n",
        "print()\n",
        "\n",
        "A_Document = bag_of_words.todense()\n",
        "print('Document Term Matrix - DTM')\n",
        "print('6 Documents x 5 Words')\n",
        "print(A_Document)"
      ],
      "metadata": {
        "colab": {
          "base_uri": "https://localhost:8080/",
          "height": 0
        },
        "id": "f5ZodqYQXlXI",
        "outputId": "c6261a0e-49e7-4410-bf11-496cf9b32205"
      },
      "execution_count": 182,
      "outputs": [
        {
          "output_type": "stream",
          "name": "stdout",
          "text": [
            "Term - Word - Document Matrix - TDM\n",
            "5 Words x 6 Document\n",
            "[[0 1 0 0 0 0]\n",
            " [0 1 1 0 0 0]\n",
            " [0 0 0 0 1 1]\n",
            " [1 1 0 0 0 0]\n",
            " [0 0 0 1 0 1]]\n",
            "\n",
            "Document Term Matrix - DTM\n",
            "6 Documents x 5 Words\n",
            "[[0 0 0 1 0]\n",
            " [1 1 0 1 0]\n",
            " [0 1 0 0 0]\n",
            " [0 0 0 0 1]\n",
            " [0 0 1 0 0]\n",
            " [0 0 1 0 1]]\n"
          ]
        }
      ]
    },
    {
      "cell_type": "markdown",
      "source": [
        "## Problem 5.3\n",
        "Compute the ‘Singular Value Decomposition’ (SVD) matrix for both DTM (Document Term Matrix) & TDM (Term Document Matrix) computed in the previous step. Using only the first 2 eigen values from the SVD and the SK Learn TruncatedSVD function, compute the Truncated DTM and TDM."
      ],
      "metadata": {
        "id": "zxmQ_Y_xXlhi"
      }
    },
    {
      "cell_type": "code",
      "source": [
        "sigma_significant_num = 2\n",
        "svd1 = TruncatedSVD(n_components=sigma_significant_num)\n",
        "lsa_Document = svd1.fit_transform(np.asarray(A_Document.T))\n",
        "print('Truncated - Document Term Matrix')\n",
        "print(lsa_Document)"
      ],
      "metadata": {
        "colab": {
          "base_uri": "https://localhost:8080/",
          "height": 0
        },
        "id": "SdEHeyTW4Ac6",
        "outputId": "6a47d355-d408-4f33-9c8b-af361ff4f0e6"
      },
      "execution_count": 206,
      "outputs": [
        {
          "output_type": "stream",
          "name": "stdout",
          "text": [
            "Truncated - Document Term Matrix\n",
            "[[ 0.8881  0.    ]\n",
            " [ 1.2131 -0.    ]\n",
            " [ 0.      1.2247]\n",
            " [ 1.2131 -0.    ]\n",
            " [ 0.      1.2247]]\n"
          ]
        }
      ]
    },
    {
      "cell_type": "code",
      "source": [
        "sigma_significant_num = 2\n",
        "svd1 = TruncatedSVD(n_components=sigma_significant_num)\n",
        "lsa_Word = svd1.fit_transform(np.asarray(A_Word.T))\n",
        "print('Truncated - Term Document Matrix')\n",
        "print(lsa_Word)"
      ],
      "metadata": {
        "colab": {
          "base_uri": "https://localhost:8080/",
          "height": 0
        },
        "id": "Y9k23lCn2_Op",
        "outputId": "552e8f92-3815-4582-b598-c16d819a2406"
      },
      "execution_count": 204,
      "outputs": [
        {
          "output_type": "stream",
          "name": "stdout",
          "text": [
            "Truncated - Term Document Matrix\n",
            "[[ 0.628   0.    ]\n",
            " [ 1.7156  0.    ]\n",
            " [ 0.628   0.    ]\n",
            " [-0.      0.7071]\n",
            " [ 0.      0.7071]\n",
            " [ 0.      1.4142]]\n"
          ]
        }
      ]
    },
    {
      "cell_type": "markdown",
      "source": [
        "## Problem 5.4\n",
        "What are the topics on which LSA has divided these set of documents?\n",
        "Plot all the 6 Truncated vectors with the following specifications.\n",
        "\n",
        "* X-axis: Truncated DTM/Topic-1 values\n",
        "* Y-axis: Truncated DTM/Topic-2 values\n",
        "\n",
        "Compute the ‘cosine similarity’ and ‘cosine distance’ using the Truncated SVD."
      ],
      "metadata": {
        "id": "xil2GbGwXnL8"
      }
    },
    {
      "cell_type": "code",
      "source": [
        "v0 = lsa_Document[:,0]\n",
        "v1 = lsa_Document[:,1]\n",
        "\n",
        "#print(v0)\n",
        "#print(v1)\n",
        "\n",
        "fig, ax = plt.subplots()\n",
        "\n",
        "print()\n",
        "plt.xlim([-1,2])\n",
        "plt.ylim([-1, 2])\n",
        "\n",
        "ax.scatter(list(np.abs(v0)), list(np.abs(v1)), color='red')\n",
        "ax.axhline(y=0, color='k')\n",
        "ax.axvline(x=0, color='k')\n",
        "plt.xlabel('Topic-1')\n",
        "plt.ylabel('Topic-2')\n",
        "plt.show()"
      ],
      "metadata": {
        "colab": {
          "base_uri": "https://localhost:8080/",
          "height": 472
        },
        "id": "vgQPj-CbXoXw",
        "outputId": "36498d1f-a56c-465e-e9a9-90889550eead"
      },
      "execution_count": 222,
      "outputs": [
        {
          "output_type": "stream",
          "name": "stdout",
          "text": [
            "\n"
          ]
        },
        {
          "output_type": "display_data",
          "data": {
            "text/plain": [
              "<Figure size 640x480 with 1 Axes>"
            ],
            "image/png": "[encoded data removed]"
          },
          "metadata": {}
        }
      ]
    },
    {
      "cell_type": "code",
      "source": [
        "# Function to compute cosine similarity between two points\n",
        "def cosine_similarity(pt1, pt2):\n",
        "    return np.dot(pt1, pt2) / (np.linalg.norm(pt1) * np.linalg.norm(pt2))\n",
        "\n",
        "# Number of documents\n",
        "numDocu = len(lsa_Document)\n",
        "\n",
        "# Initialize matrices for cosine similarity and cosine distance\n",
        "cosine_SimMatrix = np.zeros((numDocu, numDocu))\n",
        "cosine_DistMatrix = np.zeros((numDocu, numDocu))\n",
        "\n",
        "# Compute cosine similarity and distance for each pair of documents\n",
        "for i in range(numDocu):\n",
        "    for j in range(numDocu):\n",
        "        cosine_SimMatrix[i, j] = cosine_similarity(lsa_Document[i], lsa_Document[j])\n",
        "        cosine_DistMatrix[i, j] = 1 - cosine_SimMatrix[i, j]\n",
        "\n",
        "# Print the matrices\n",
        "print('Cosine Similarity Matrix:')\n",
        "print(cosine_SimMatrix)\n",
        "print('\\nCosine Distance Matrix:')\n",
        "print(cosine_DistMatrix)"
      ],
      "metadata": {
        "colab": {
          "base_uri": "https://localhost:8080/",
          "height": 0
        },
        "id": "nOTMbP-67rhW",
        "outputId": "da7c855e-335f-4b7d-e0c6-747bea6ff25b"
      },
      "execution_count": 226,
      "outputs": [
        {
          "output_type": "stream",
          "name": "stdout",
          "text": [
            "Cosine Similarity Matrix:\n",
            "[[ 1.  1.  0.  1.  0.]\n",
            " [ 1.  1. -0.  1. -0.]\n",
            " [ 0. -0.  1. -0.  1.]\n",
            " [ 1.  1. -0.  1. -0.]\n",
            " [ 0. -0.  1. -0.  1.]]\n",
            "\n",
            "Cosine Distance Matrix:\n",
            "[[0. 0. 1. 0. 1.]\n",
            " [0. 0. 1. 0. 1.]\n",
            " [1. 1. 0. 1. 0.]\n",
            " [0. 0. 1. 0. 1.]\n",
            " [1. 1. 0. 1. 0.]]\n"
          ]
        }
      ]
    },
    {
      "cell_type": "markdown",
      "source": [
        "## Problem 5.5\n",
        "Which documents are more appropriate for ‘Topic-1’ and ‘Topic-2’?"
      ],
      "metadata": {
        "id": "g3Hsa4bsXonO"
      }
    },
    {
      "cell_type": "code",
      "source": [
        "# Each row corresponds to a document, and each column corresponds to a topic/component\n",
        "\n",
        "# Identify the document with the highest value for Topic-1\n",
        "topic_1_scores = lsa_Document[:, 0]  # All rows, first column\n",
        "max_topic_1_index = np.argmax(topic_1_scores)\n",
        "\n",
        "# Identify the document with the highest value for Topic-2\n",
        "topic_2_scores = lsa_Document[:, 1]  # All rows, second column\n",
        "max_topic_2_index = np.argmax(topic_2_scores)\n",
        "\n",
        "print(f\"Document most relevant to 'Topic-1': Document {max_topic_1_index+1}\")\n",
        "print(f\"Document most relevant to 'Topic-2': Document {max_topic_2_index+1}\")\n"
      ],
      "metadata": {
        "colab": {
          "base_uri": "https://localhost:8080/",
          "height": 0
        },
        "id": "oNW4AZejXpqG",
        "outputId": "87f4db00-a337-482c-d3dc-3be5bdcaf8b8"
      },
      "execution_count": 227,
      "outputs": [
        {
          "output_type": "stream",
          "name": "stdout",
          "text": [
            "Document most relevant to 'Topic-1': Document 2\n",
            "Document most relevant to 'Topic-2': Document 5\n"
          ]
        }
      ]
    },
    {
      "cell_type": "markdown",
      "source": [
        "## Problem 5.6\n",
        "Which are the top 2 words that describe ‘Topic-1’ and ‘Topic-2’?"
      ],
      "metadata": {
        "id": "7A-WvC2KXp6u"
      }
    },
    {
      "cell_type": "code",
      "source": [
        "# Fit the vectorizer to your corpus to build the vocabulary\n",
        "vectorized_corpus = vectorizer.fit_transform(corpus)\n",
        "\n",
        "# Get the feature names from the vectorizer\n",
        "feature_names = vectorizer.get_feature_names_out()\n",
        "\n",
        "# Apply Truncated SVD\n",
        "svd_model = TruncatedSVD(n_components=sigma_significant_num)\n",
        "\n",
        "# Fit the SVD model to the vectorized corpus\n",
        "lsa_Document = svd_model.fit_transform(vectorized_corpus)\n",
        "\n",
        "# Get the components (V^T matrix) from the TruncatedSVD model\n",
        "components = svd_model.components_\n",
        "\n",
        "# Top 2 words for Topic-1\n",
        "top_words_topic_1 = components[0].argsort()[-2:][::-1]  # Sort the first row and get indices of the top 2 values\n",
        "top_words_topic_1_names = [feature_names[i] for i in top_words_topic_1]\n",
        "\n",
        "# Top 2 words for Topic-2\n",
        "top_words_topic_2 = components[1].argsort()[-2:][::-1]  # Sort the second row and get indices of the top 2 values\n",
        "top_words_topic_2_names = [feature_names[i] for i in top_words_topic_2]\n",
        "\n",
        "print(f\"Top 2 words for 'Topic-1': {top_words_topic_1_names}\")\n",
        "print(f\"Top 2 words for 'Topic-2': {top_words_topic_2_names}\")\n"
      ],
      "metadata": {
        "colab": {
          "base_uri": "https://localhost:8080/",
          "height": 0
        },
        "id": "T1Imt9MKXrNA",
        "outputId": "cb7bf997-c00d-4438-bc49-ea2d89c7b696"
      },
      "execution_count": 230,
      "outputs": [
        {
          "output_type": "stream",
          "name": "stdout",
          "text": [
            "Top 2 words for 'Topic-1': ['runs', 'pitcher']\n",
            "Top 2 words for 'Topic-2': ['quarterback', 'touchdown']\n"
          ]
        }
      ]
    }
  ]
}